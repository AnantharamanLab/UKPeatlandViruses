{
 "cells": [
  {
   "cell_type": "markdown",
   "metadata": {},
   "source": [
    "# Bioinformatic Workflow\n",
    "- **NOTE 1:** The software used in this workflow, and their versions, can be found in the Methods section of the associated manuscript.\n",
    "- **NOTE 2:** Cells that contain code to execute scripts or tools will be written as markdown to avoid their actual running when using this notebook. To reproduce this workflow, these commands will need to be manually executed on the command line.\n",
    "- **NOTE 3:** Some tools are executed using shell or python scripts. Here, they are not executed and instead the contents of the scripts are shown using `cat`. To reproduce this workflow, these scripts will need to be manually executed using `bash script_name.sh` or `python3 script_name.py` on the command line.\n",
    "- **NOTE 4:** Some of the paths that are written in the scripts and cells below have been modified to be relative to this repository, or have had their full paths trimmed to remove identifying information. To reproduce this workflow, all paths in the executed scripts and cells will have to be updated to what is appropriate for the user based on their local installations and data locations."
   ]
  },
  {
   "cell_type": "markdown",
   "metadata": {},
   "source": [
    "## Run (parts of) the Anvi'o Metagenomics Workflow to Filter and Assemble Reads"
   ]
  },
  {
   "cell_type": "markdown",
   "metadata": {},
   "source": [
    "    anvi-run-workflow --workflow metagenomics --config_file ./Scripts/conig.json"
   ]
  },
  {
   "cell_type": "markdown",
   "metadata": {},
   "source": [
    "This should create directories and files with the following structure:"
   ]
  },
  {
   "cell_type": "markdown",
   "metadata": {},
   "source": [
    "    01_QC\n",
    "    ├── BAr1A.ini\n",
    "    ├── BAr1A-QUALITY_PASSED_R1.fastq.gz\n",
    "    ├── BAr1A-QUALITY_PASSED_R2.fastq.gz\n",
    "    ├── BAr1A-STATS.txt\n",
    "    ├── BAr1B.ini\n",
    "    ├── BAr1B-QUALITY_PASSED_R1.fastq.gz\n",
    "    ├── BAr1B-QUALITY_PASSED_R2.fastq.gz\n",
    "    ├── BAr1B-STATS.txt\n",
    "    ├── BAr1C.ini\n",
    "    ├── BAr1C-QUALITY_PASSED_R1.fastq.gz\n",
    "    ├── BAr1C-QUALITY_PASSED_R2.fastq.gz\n",
    "    ├── BAr1C-STATS.txt\n",
    "    ├── BAr2D.ini\n",
    "    ├── BAr2D-QUALITY_PASSED_R1.fastq.gz\n",
    "    ├── BAr2D-QUALITY_PASSED_R2.fastq.gz\n",
    "    ├── BAr2D-STATS.txt\n",
    "    ├── BAr2E.ini\n",
    "    ├── BAr2E-QUALITY_PASSED_R1.fastq.gz\n",
    "    ├── BAr2E-QUALITY_PASSED_R2.fastq.gz\n",
    "    ├── BAr2E-STATS.txt\n",
    "    ├── BAr2F.ini\n",
    "    ├── BAr2F-QUALITY_PASSED_R1.fastq.gz\n",
    "    ├── BAr2F-QUALITY_PASSED_R2.fastq.gz\n",
    "    ├── BAr2F-STATS.txt\n",
    "    ├── BAr3G.ini\n",
    "    ├── BAr3G-QUALITY_PASSED_R1.fastq.gz\n",
    "    ├── BAr3G-QUALITY_PASSED_R2.fastq.gz\n",
    "    ├── BAr3G-STATS.txt\n",
    "    ├── BAr3H.ini\n",
    "    ├── BAr3H-QUALITY_PASSED_R1.fastq.gz\n",
    "    ├── BAr3H-QUALITY_PASSED_R2.fastq.gz\n",
    "    ├── BAr3H-STATS.txt\n",
    "    ├── BAr3I.ini\n",
    "    ├── BAr3I-QUALITY_PASSED_R1.fastq.gz\n",
    "    ├── BAr3I-QUALITY_PASSED_R2.fastq.gz\n",
    "    ├── BAr3I-STATS.txt\n",
    "    ├── BOr1A.ini\n",
    "    ├── BOr1A-QUALITY_PASSED_R1.fastq.gz\n",
    "    ├── BOr1A-QUALITY_PASSED_R2.fastq.gz\n",
    "    ├── BOr1A-STATS.txt\n",
    "    ├── BOr1B.ini\n",
    "    ├── BOr1B-QUALITY_PASSED_R1.fastq.gz\n",
    "    ├── BOr1B-QUALITY_PASSED_R2.fastq.gz\n",
    "    ├── BOr1B-STATS.txt\n",
    "    ├── BOr1C.ini\n",
    "    ├── BOr1C-QUALITY_PASSED_R1.fastq.gz\n",
    "    ├── BOr1C-QUALITY_PASSED_R2.fastq.gz\n",
    "    ├── BOr1C-STATS.txt\n",
    "    ├── BOr2D.ini\n",
    "    ├── BOr2D-QUALITY_PASSED_R1.fastq.gz\n",
    "    ├── BOr2D-QUALITY_PASSED_R2.fastq.gz\n",
    "    ├── BOr2D-STATS.txt\n",
    "    ├── BOr2E.ini\n",
    "    ├── BOr2E-QUALITY_PASSED_R1.fastq.gz\n",
    "    ├── BOr2E-QUALITY_PASSED_R2.fastq.gz\n",
    "    ├── BOr2E-STATS.txt\n",
    "    ├── BOr2F.ini\n",
    "    ├── BOr2F-QUALITY_PASSED_R1.fastq.gz\n",
    "    ├── BOr2F-QUALITY_PASSED_R2.fastq.gz\n",
    "    ├── BOr2F-STATS.txt\n",
    "    ├── BOr3G.ini\n",
    "    ├── BOr3G-QUALITY_PASSED_R1.fastq.gz\n",
    "    ├── BOr3G-QUALITY_PASSED_R2.fastq.gz\n",
    "    ├── BOr3G-STATS.txt\n",
    "    ├── BOr3H.ini\n",
    "    ├── BOr3H-QUALITY_PASSED_R1.fastq.gz\n",
    "    ├── BOr3H-QUALITY_PASSED_R2.fastq.gz\n",
    "    ├── BOr3H-STATS.txt\n",
    "    ├── BOr3I.ini\n",
    "    ├── BOr3I-QUALITY_PASSED_R1.fastq.gz\n",
    "    ├── BOr3I-QUALITY_PASSED_R2.fastq.gz\n",
    "    ├── BOr3I-STATS.txt\n",
    "    ├── CRr1A.ini\n",
    "    ├── CRr1A-QUALITY_PASSED_R1.fastq.gz\n",
    "    ├── CRr1A-QUALITY_PASSED_R2.fastq.gz\n",
    "    ├── CRr1A-STATS.txt\n",
    "    ├── CRr1B.ini\n",
    "    ├── CRr1B-QUALITY_PASSED_R1.fastq.gz\n",
    "    ├── CRr1B-QUALITY_PASSED_R2.fastq.gz\n",
    "    ├── CRr1B-STATS.txt\n",
    "    ├── CRr1C.ini\n",
    "    ├── CRr1C-QUALITY_PASSED_R1.fastq.gz\n",
    "    ├── CRr1C-QUALITY_PASSED_R2.fastq.gz\n",
    "    ├── CRr1C-STATS.txt\n",
    "    ├── CRr2D.ini\n",
    "    ├── CRr2D-QUALITY_PASSED_R1.fastq.gz\n",
    "    ├── CRr2D-QUALITY_PASSED_R2.fastq.gz\n",
    "    ├── CRr2D-STATS.txt\n",
    "    ├── CRr2E.ini\n",
    "    ├── CRr2E-QUALITY_PASSED_R1.fastq.gz\n",
    "    ├── CRr2E-QUALITY_PASSED_R2.fastq.gz\n",
    "    ├── CRr2E-STATS.txt\n",
    "    ├── CRr2F.ini\n",
    "    ├── CRr2F-QUALITY_PASSED_R1.fastq.gz\n",
    "    ├── CRr2F-QUALITY_PASSED_R2.fastq.gz\n",
    "    ├── CRr2F-STATS.txt\n",
    "    ├── CRr3G.ini\n",
    "    ├── CRr3G-QUALITY_PASSED_R1.fastq.gz\n",
    "    ├── CRr3G-QUALITY_PASSED_R2.fastq.gz\n",
    "    ├── CRr3G-STATS.txt\n",
    "    ├── CRr3H.ini\n",
    "    ├── CRr3H-QUALITY_PASSED_R1.fastq.gz\n",
    "    ├── CRr3H-QUALITY_PASSED_R2.fastq.gz\n",
    "    ├── CRr3H-STATS.txt\n",
    "    ├── CRr3I.ini\n",
    "    ├── CRr3I-QUALITY_PASSED_R1.fastq.gz\n",
    "    ├── CRr3I-QUALITY_PASSED_R2.fastq.gz\n",
    "    ├── CRr3I-STATS.txt\n",
    "    ├── gunzip_reads.sh\n",
    "    ├── LABRr1A.ini\n",
    "    ├── LABRr1A-QUALITY_PASSED_R1.fastq.gz\n",
    "    ├── LABRr1A-QUALITY_PASSED_R2.fastq.gz\n",
    "    ├── LABRr1A-STATS.txt\n",
    "    ├── LABRr1B.ini\n",
    "    ├── LABRr1B-QUALITY_PASSED_R1.fastq.gz\n",
    "    ├── LABRr1B-QUALITY_PASSED_R2.fastq.gz\n",
    "    ├── LABRr1B-STATS.txt\n",
    "    ├── LABRr1C.ini\n",
    "    ├── LABRr1C-QUALITY_PASSED_R1.fastq.gz\n",
    "    ├── LABRr1C-QUALITY_PASSED_R2.fastq.gz\n",
    "    ├── LABRr1C-STATS.txt\n",
    "    ├── LASAr3G.ini\n",
    "    ├── LASAr3G-QUALITY_PASSED_R1.fastq.gz\n",
    "    ├── LASAr3G-QUALITY_PASSED_R2.fastq.gz\n",
    "    ├── LASAr3G-STATS.txt\n",
    "    ├── LASAr3H.ini\n",
    "    ├── LASAr3H-QUALITY_PASSED_R1.fastq.gz\n",
    "    ├── LASAr3H-QUALITY_PASSED_R2.fastq.gz\n",
    "    ├── LASAr3H-STATS.txt\n",
    "    ├── LASAr3I.ini\n",
    "    ├── LASAr3I-QUALITY_PASSED_R1.fastq.gz\n",
    "    ├── LASAr3I-QUALITY_PASSED_R2.fastq.gz\n",
    "    ├── LASAr3I-STATS.txt\n",
    "    ├── LASCr2D.ini\n",
    "    ├── LASCr2D-QUALITY_PASSED_R1.fastq.gz\n",
    "    ├── LASCr2D-QUALITY_PASSED_R2.fastq.gz\n",
    "    ├── LASCr2D-STATS.txt\n",
    "    ├── LASCr2E.ini\n",
    "    ├── LASCr2E-QUALITY_PASSED_R1.fastq.gz\n",
    "    ├── LASCr2E-QUALITY_PASSED_R2.fastq.gz\n",
    "    ├── LASCr2E-STATS.txt\n",
    "    ├── LASCr2F.ini\n",
    "    ├── LASCr2F-QUALITY_PASSED_R1.fastq.gz\n",
    "    ├── LASCr2F-QUALITY_PASSED_R2.fastq.gz\n",
    "    ├── LASCr2F-STATS.txt\n",
    "    ├── LASYr2D.ini\n",
    "    ├── LASYr2D-QUALITY_PASSED_R1.fastq.gz\n",
    "    ├── LASYr2D-QUALITY_PASSED_R2.fastq.gz\n",
    "    ├── LASYr2D-STATS.txt\n",
    "    ├── LASYr2E.ini\n",
    "    ├── LASYr2E-QUALITY_PASSED_R1.fastq.gz\n",
    "    ├── LASYr2E-QUALITY_PASSED_R2.fastq.gz\n",
    "    ├── LASYr2E-STATS.txt\n",
    "    ├── LASYr2F.ini\n",
    "    ├── LASYr2F-QUALITY_PASSED_R1.fastq.gz\n",
    "    ├── LASYr2F-QUALITY_PASSED_R2.fastq.gz\n",
    "    ├── LASYr2F-STATS.txt\n",
    "    ├── LAWAr2D.ini\n",
    "    ├── LAWAr2D-QUALITY_PASSED_R1.fastq.gz\n",
    "    ├── LAWAr2D-QUALITY_PASSED_R2.fastq.gz\n",
    "    ├── LAWAr2D-STATS.txt\n",
    "    ├── LAWAr2E.ini\n",
    "    ├── LAWAr2E-QUALITY_PASSED_R1.fastq.gz\n",
    "    ├── LAWAr2E-QUALITY_PASSED_R2.fastq.gz\n",
    "    ├── LAWAr2E-STATS.txt\n",
    "    ├── LAWAr2F.ini\n",
    "    ├── LAWAr2F-QUALITY_PASSED_R1.fastq.gz\n",
    "    ├── LAWAr2F-QUALITY_PASSED_R2.fastq.gz\n",
    "    ├── LAWAr2F-STATS.txt\n",
    "    ├── MGr1A.ini\n",
    "    ├── MGr1A-QUALITY_PASSED_R1.fastq.gz\n",
    "    ├── MGr1A-QUALITY_PASSED_R2.fastq.gz\n",
    "    ├── MGr1A-STATS.txt\n",
    "    ├── MGr1B.ini\n",
    "    ├── MGr1B-QUALITY_PASSED_R1.fastq.gz\n",
    "    ├── MGr1B-QUALITY_PASSED_R2.fastq.gz\n",
    "    ├── MGr1B-STATS.txt\n",
    "    ├── MGr1C.ini\n",
    "    ├── MGr1C-QUALITY_PASSED_R1.fastq.gz\n",
    "    ├── MGr1C-QUALITY_PASSED_R2.fastq.gz\n",
    "    ├── MGr1C-STATS.txt\n",
    "    ├── MGr2D.ini\n",
    "    ├── MGr2D-QUALITY_PASSED_R1.fastq.gz\n",
    "    ├── MGr2D-QUALITY_PASSED_R2.fastq.gz\n",
    "    ├── MGr2D-STATS.txt\n",
    "    ├── MGr2E.ini\n",
    "    ├── MGr2E-QUALITY_PASSED_R1.fastq.gz\n",
    "    ├── MGr2E-QUALITY_PASSED_R2.fastq.gz\n",
    "    ├── MGr2E-STATS.txt\n",
    "    ├── MGr2F.ini\n",
    "    ├── MGr2F-QUALITY_PASSED_R1.fastq.gz\n",
    "    ├── MGr2F-QUALITY_PASSED_R2.fastq.gz\n",
    "    ├── MGr2F-STATS.txt\n",
    "    ├── MGr3G.ini\n",
    "    ├── MGr3G-QUALITY_PASSED_R1.fastq.gz\n",
    "    ├── MGr3G-QUALITY_PASSED_R2.fastq.gz\n",
    "    ├── MGr3G-STATS.txt\n",
    "    ├── MGr3H.ini\n",
    "    ├── MGr3H-QUALITY_PASSED_R1.fastq.gz\n",
    "    ├── MGr3H-QUALITY_PASSED_R2.fastq.gz\n",
    "    ├── MGr3H-STATS.txt\n",
    "    ├── MGr3I.ini\n",
    "    ├── MGr3I-QUALITY_PASSED_R1.fastq.gz\n",
    "    ├── MGr3I-QUALITY_PASSED_R2.fastq.gz\n",
    "    ├── MGr3I-STATS.txt\n",
    "    ├── MHr1A.ini\n",
    "    ├── MHr1A-QUALITY_PASSED_R1.fastq.gz\n",
    "    ├── MHr1A-QUALITY_PASSED_R2.fastq.gz\n",
    "    ├── MHr1A-STATS.txt\n",
    "    ├── MHr1B.ini\n",
    "    ├── MHr1B-QUALITY_PASSED_R1.fastq.gz\n",
    "    ├── MHr1B-QUALITY_PASSED_R2.fastq.gz\n",
    "    ├── MHr1B-STATS.txt\n",
    "    ├── MHr1C.ini\n",
    "    ├── MHr1C-QUALITY_PASSED_R1.fastq.gz\n",
    "    ├── MHr1C-QUALITY_PASSED_R2.fastq.gz\n",
    "    ├── MHr1C-STATS.txt\n",
    "    ├── MHr2D.ini\n",
    "    ├── MHr2D-QUALITY_PASSED_R1.fastq.gz\n",
    "    ├── MHr2D-QUALITY_PASSED_R2.fastq.gz\n",
    "    ├── MHr2D-STATS.txt\n",
    "    ├── MHr2E.ini\n",
    "    ├── MHr2E-QUALITY_PASSED_R1.fastq.gz\n",
    "    ├── MHr2E-QUALITY_PASSED_R2.fastq.gz\n",
    "    ├── MHr2E-STATS.txt\n",
    "    ├── MHr2F.ini\n",
    "    ├── MHr2F-QUALITY_PASSED_R1.fastq.gz\n",
    "    ├── MHr2F-QUALITY_PASSED_R2.fastq.gz\n",
    "    ├── MHr2F-STATS.txt\n",
    "    ├── MHr3G.ini\n",
    "    ├── MHr3G-QUALITY_PASSED_R1.fastq.gz\n",
    "    ├── MHr3G-QUALITY_PASSED_R2.fastq.gz\n",
    "    ├── MHr3G-STATS.txt\n",
    "    ├── MHr3H.ini\n",
    "    ├── MHr3H-QUALITY_PASSED_R1.fastq.gz\n",
    "    ├── MHr3H-QUALITY_PASSED_R2.fastq.gz\n",
    "    ├── MHr3H-STATS.txt\n",
    "    ├── MHr3I.ini\n",
    "    ├── MHr3I-QUALITY_PASSED_R1.fastq.gz\n",
    "    ├── MHr3I-QUALITY_PASSED_R2.fastq.gz\n",
    "    ├── MHr3I-STATS.txt\n",
    "    ├── nohup.out\n",
    "    ├── qc-report.txt\n",
    "    ├── SEr2D.ini\n",
    "    ├── SEr2D-QUALITY_PASSED_R1.fastq.gz\n",
    "    ├── SEr2D-QUALITY_PASSED_R2.fastq.gz\n",
    "    ├── SEr2D-STATS.txt\n",
    "    ├── SEr2E.ini\n",
    "    ├── SEr2E-QUALITY_PASSED_R1.fastq.gz\n",
    "    ├── SEr2E-QUALITY_PASSED_R2.fastq.gz\n",
    "    ├── SEr2E-STATS.txt\n",
    "    ├── SEr2F.ini\n",
    "    ├── SEr2F-QUALITY_PASSED_R1.fastq.gz\n",
    "    ├── SEr2F-QUALITY_PASSED_R2.fastq.gz\n",
    "    ├── SEr2F-STATS.txt\n",
    "    ├── SEr3G.ini\n",
    "    ├── SEr3G-QUALITY_PASSED_R1.fastq.gz\n",
    "    ├── SEr3G-QUALITY_PASSED_R2.fastq.gz\n",
    "    ├── SEr3G-STATS.txt\n",
    "    ├── SEr3H.ini\n",
    "    ├── SEr3H-QUALITY_PASSED_R1.fastq.gz\n",
    "    ├── SEr3H-QUALITY_PASSED_R2.fastq.gz\n",
    "    ├── SEr3H-STATS.txt\n",
    "    ├── SEr3I.ini\n",
    "    ├── SEr3I-QUALITY_PASSED_R1.fastq.gz\n",
    "    ├── SEr3I-QUALITY_PASSED_R2.fastq.gz\n",
    "    └── SEr3I-STATS.txt\n",
    "\n",
    "    02_FASTA/\n",
    "    ├── BAr1A1B1C\n",
    "    │   ├── BAr1A1B1C-contigs-prefix-formatted-only.fa\n",
    "    │   └── BAr1A1B1C-reformat-report.txt\n",
    "    ├── BAr2D2E2F\n",
    "    │   ├── BAr2D2E2F-contigs-prefix-formatted-only.fa\n",
    "    │   └── BAr2D2E2F-reformat-report.txt\n",
    "    ├── BAr3G3H3I\n",
    "    │   ├── BAr3G3H3I-contigs-prefix-formatted-only.fa\n",
    "    │   └── BAr3G3H3I-reformat-report.txt\n",
    "    ├── BOr1A1B1C\n",
    "    │   ├── BOr1A1B1C-contigs-prefix-formatted-only.fa\n",
    "    │   └── BOr1A1B1C-reformat-report.txt\n",
    "    ├── BOr2D2E2F\n",
    "    │   ├── BOr2D2E2F-contigs-prefix-formatted-only.fa\n",
    "    │   └── BOr2D2E2F-reformat-report.txt\n",
    "    ├── BOr3G3H3I\n",
    "    │   ├── BOr3G3H3I-contigs-prefix-formatted-only.fa\n",
    "    │   └── BOr3G3H3I-reformat-report.txt\n",
    "    ├── CRr1A1B1C\n",
    "    │   ├── CRr1A1B1C-contigs-prefix-formatted-only.fa\n",
    "    │   └── CRr1A1B1C-reformat-report.txt\n",
    "    ├── CRr2D2E2F\n",
    "    │   ├── CRr2D2E2F-contigs-prefix-formatted-only.fa\n",
    "    │   └── CRr2D2E2F-reformat-report.txt\n",
    "    ├── CRr3G3H3I\n",
    "    │   ├── CRr3G3H3I-contigs-prefix-formatted-only.fa\n",
    "    │   └── CRr3G3H3I-reformat-report.txt\n",
    "    ├── LABRr1A1B1C\n",
    "    │   ├── LABRr1A1B1C-contigs-prefix-formatted-only.fa\n",
    "    │   └── LABRr1A1B1C-reformat-report.txt\n",
    "    ├── LASAr3G3H3I\n",
    "    │   ├── LASAr3G3H3I-contigs-prefix-formatted-only.fa\n",
    "    │   └── LASAr3G3H3I-reformat-report.txt\n",
    "    ├── LASCr2D2E2F\n",
    "    │   ├── LASCr2D2E2F-contigs-prefix-formatted-only.fa\n",
    "    │   └── LASCr2D2E2F-reformat-report.txt\n",
    "    ├── LASYr2D2E2F\n",
    "    │   ├── LASYr2D2E2F-contigs-prefix-formatted-only.fa\n",
    "    │   └── LASYr2D2E2F-reformat-report.txt\n",
    "    ├── LAWAr2D2E2F\n",
    "    │   ├── LAWAr2D2E2F-contigs-prefix-formatted-only.fa\n",
    "    │   └── LAWAr2D2E2F-reformat-report.txt\n",
    "    ├── MGr1A1B1C\n",
    "    │   ├── MGr1A1B1C-contigs-prefix-formatted-only.fa\n",
    "    │   └── MGr1A1B1C-reformat-report.txt\n",
    "    ├── MGr2D2E2F\n",
    "    │   ├── MGr2D2E2F-contigs-prefix-formatted-only.fa\n",
    "    │   └── MGr2D2E2F-reformat-report.txt\n",
    "    ├── MGr3G3H3I\n",
    "    │   ├── MGr3G3H3I-contigs-prefix-formatted-only.fa\n",
    "    │   └── MGr3G3H3I-reformat-report.txt\n",
    "    ├── MHr1A1B1C\n",
    "    │   ├── MHr1A1B1C-contigs-prefix-formatted-only.fa\n",
    "    │   └── MHr1A1B1C-reformat-report.txt\n",
    "    ├── MHr2D2E2F\n",
    "    │   ├── MHr2D2E2F-contigs-prefix-formatted-only.fa\n",
    "    │   └── MHr2D2E2F-reformat-report.txt\n",
    "    ├── MHr3G3H3I\n",
    "    │   ├── MHr3G3H3I-contigs-prefix-formatted-only.fa\n",
    "    │   └── MHr3G3H3I-reformat-report.txt\n",
    "    ├── SEr2D2E2F\n",
    "    │   ├── SEr2D2E2F-contigs-prefix-formatted-only.fa\n",
    "    │   └── SEr2D2E2F-reformat-report.txt\n",
    "    └── SEr3G3H3I\n",
    "        ├── SEr3G3H3I-contigs-prefix-formatted-only.fa\n",
    "        └── SEr3G3H3I-reformat-report.txt\n",
    "\n",
    "    03_CONTIGS/\n",
    "    ├── BAr1A1B1C-annotate_contigs_database.done\n",
    "    ├── BAr1A1B1C-contigs.db\n",
    "    ├── BAr2D2E2F-annotate_contigs_database.done\n",
    "    ├── BAr2D2E2F-contigs.db\n",
    "    ├── BAr3G3H3I-annotate_contigs_database.done\n",
    "    ├── BAr3G3H3I-contigs.db\n",
    "    ├── BOr1A1B1C-annotate_contigs_database.done\n",
    "    ├── BOr1A1B1C-contigs.db\n",
    "    ├── BOr2D2E2F-annotate_contigs_database.done\n",
    "    ├── BOr2D2E2F-contigs.db\n",
    "    ├── BOr3G3H3I-annotate_contigs_database.done\n",
    "    ├── BOr3G3H3I-contigs.db\n",
    "    ├── CRr1A1B1C-annotate_contigs_database.done\n",
    "    ├── CRr1A1B1C-contigs.db\n",
    "    ├── CRr2D2E2F-annotate_contigs_database.done\n",
    "    ├── CRr2D2E2F-contigs.db\n",
    "    ├── CRr3G3H3I-annotate_contigs_database.done\n",
    "    ├── CRr3G3H3I-contigs.db\n",
    "    ├── LABRr1A1B1C-annotate_contigs_database.done\n",
    "    ├── LABRr1A1B1C-contigs.db\n",
    "    ├── LASAr3G3H3I-annotate_contigs_database.done\n",
    "    ├── LASAr3G3H3I-contigs.db\n",
    "    ├── LASCr2D2E2F-annotate_contigs_database.done\n",
    "    ├── LASCr2D2E2F-contigs.db\n",
    "    ├── LASYr2D2E2F-annotate_contigs_database.done\n",
    "    ├── LASYr2D2E2F-contigs.db\n",
    "    ├── LAWAr2D2E2F-annotate_contigs_database.done\n",
    "    ├── LAWAr2D2E2F-contigs.db\n",
    "    ├── MGr1A1B1C-annotate_contigs_database.done\n",
    "    ├── MGr1A1B1C-contigs.db\n",
    "    ├── MGr2D2E2F-annotate_contigs_database.done\n",
    "    ├── MGr2D2E2F-contigs.db\n",
    "    ├── MGr3G3H3I-annotate_contigs_database.done\n",
    "    ├── MGr3G3H3I-contigs.db\n",
    "    ├── MHr1A1B1C-annotate_contigs_database.done\n",
    "    ├── MHr1A1B1C-contigs.db\n",
    "    ├── MHr2D2E2F-annotate_contigs_database.done\n",
    "    ├── MHr2D2E2F-contigs.db\n",
    "    ├── MHr3G3H3I-annotate_contigs_database.done\n",
    "    ├── MHr3G3H3I-contigs.db\n",
    "    ├── SEr2D2E2F-annotate_contigs_database.done\n",
    "    ├── SEr2D2E2F-contigs.db\n",
    "    ├── SEr3G3H3I-annotate_contigs_database.done\n",
    "    └── SEr3G3H3I-contigs.db\n",
    "\n",
    "    04_MAPPING/\n",
    "    ├── BAr1A1B1C\n",
    "    │   ├── BAr1A1B1C-contigs.1.bt2\n",
    "    │   ├── BAr1A1B1C-contigs.2.bt2\n",
    "    │   ├── BAr1A1B1C-contigs.3.bt2\n",
    "    │   ├── BAr1A1B1C-contigs.4.bt2\n",
    "    │   ├── BAr1A1B1C-contigs.rev.1.bt2\n",
    "    │   ├── BAr1A1B1C-contigs.rev.2.bt2\n",
    "    │   ├── BAr1A.bam\n",
    "    │   ├── BAr1A.bam.bai\n",
    "    │   ├── BAr1A.counts.cov\n",
    "    │   ├── BAr1B.bam\n",
    "    │   ├── BAr1B.bam.bai\n",
    "    │   ├── BAr1B.counts.cov\n",
    "    │   ├── BAr1C.bam\n",
    "    │   ├── BAr1C.bam.bai\n",
    "    │   └── BAr1C.counts.cov\n",
    "    ├── BAr2D2E2F\n",
    "    │   ├── BAr2D2E2F-contigs.1.bt2\n",
    "    │   ├── BAr2D2E2F-contigs.2.bt2\n",
    "    │   ├── BAr2D2E2F-contigs.3.bt2\n",
    "    │   ├── BAr2D2E2F-contigs.4.bt2\n",
    "    │   ├── BAr2D2E2F-contigs.rev.1.bt2\n",
    "    │   ├── BAr2D2E2F-contigs.rev.2.bt2\n",
    "    │   ├── BAr2D.bam\n",
    "    │   ├── BAr2D.bam.bai\n",
    "    │   ├── BAr2D.counts.cov\n",
    "    │   ├── BAr2E.bam\n",
    "    │   ├── BAr2E.bam.bai\n",
    "    │   ├── BAr2E.counts.cov\n",
    "    │   ├── BAr2F.bam\n",
    "    │   ├── BAr2F.bam.bai\n",
    "    │   └── BAr2F.counts.cov\n",
    "    ├── BAr3G3H3I\n",
    "    │   ├── BAr3G3H3I-contigs.1.bt2\n",
    "    │   ├── BAr3G3H3I-contigs.2.bt2\n",
    "    │   ├── BAr3G3H3I-contigs.3.bt2\n",
    "    │   ├── BAr3G3H3I-contigs.4.bt2\n",
    "    │   ├── BAr3G3H3I-contigs.rev.1.bt2\n",
    "    │   ├── BAr3G3H3I-contigs.rev.2.bt2\n",
    "    │   ├── BAr3G.bam\n",
    "    │   ├── BAr3G.bam.bai\n",
    "    │   ├── BAr3G.counts.cov\n",
    "    │   ├── BAr3H.bam\n",
    "    │   ├── BAr3H.bam.bai\n",
    "    │   ├── BAr3H.counts.cov\n",
    "    │   ├── BAr3I.bam\n",
    "    │   ├── BAr3I.bam.bai\n",
    "    │   └── BAr3I.counts.cov\n",
    "    ├── BOr1A1B1C\n",
    "    │   ├── BOr1A1B1C-contigs.1.bt2\n",
    "    │   ├── BOr1A1B1C-contigs.2.bt2\n",
    "    │   ├── BOr1A1B1C-contigs.3.bt2\n",
    "    │   ├── BOr1A1B1C-contigs.4.bt2\n",
    "    │   ├── BOr1A1B1C-contigs.rev.1.bt2\n",
    "    │   ├── BOr1A1B1C-contigs.rev.2.bt2\n",
    "    │   ├── BOr1A.bam\n",
    "    │   ├── BOr1A.bam.bai\n",
    "    │   ├── BOr1A.counts.cov\n",
    "    │   ├── BOr1B.bam\n",
    "    │   ├── BOr1B.bam.bai\n",
    "    │   ├── BOr1B.counts.cov\n",
    "    │   ├── BOr1C.bam\n",
    "    │   ├── BOr1C.bam.bai\n",
    "    │   └── BOr1C.counts.cov\n",
    "    ├── BOr2D2E2F\n",
    "    │   ├── BOr2D2E2F-contigs.1.bt2\n",
    "    │   ├── BOr2D2E2F-contigs.2.bt2\n",
    "    │   ├── BOr2D2E2F-contigs.3.bt2\n",
    "    │   ├── BOr2D2E2F-contigs.4.bt2\n",
    "    │   ├── BOr2D2E2F-contigs.rev.1.bt2\n",
    "    │   ├── BOr2D2E2F-contigs.rev.2.bt2\n",
    "    │   ├── BOr2D.bam\n",
    "    │   ├── BOr2D.bam.bai\n",
    "    │   ├── BOr2D.counts.cov\n",
    "    │   ├── BOr2E.bam\n",
    "    │   ├── BOr2E.bam.bai\n",
    "    │   ├── BOr2E.counts.cov\n",
    "    │   ├── BOr2F.bam\n",
    "    │   ├── BOr2F.bam.bai\n",
    "    │   └── BOr2F.counts.cov\n",
    "    ├── BOr3G3H3I\n",
    "    │   ├── BOr3G3H3I-contigs.1.bt2\n",
    "    │   ├── BOr3G3H3I-contigs.2.bt2\n",
    "    │   ├── BOr3G3H3I-contigs.3.bt2\n",
    "    │   ├── BOr3G3H3I-contigs.4.bt2\n",
    "    │   ├── BOr3G3H3I-contigs.rev.1.bt2\n",
    "    │   ├── BOr3G3H3I-contigs.rev.2.bt2\n",
    "    │   ├── BOr3G.bam\n",
    "    │   ├── BOr3G.bam.bai\n",
    "    │   ├── BOr3G.counts.cov\n",
    "    │   ├── BOr3H.bam\n",
    "    │   ├── BOr3H.bam.bai\n",
    "    │   ├── BOr3H.counts.cov\n",
    "    │   ├── BOr3I.bam\n",
    "    │   ├── BOr3I.bam.bai\n",
    "    │   └── BOr3I.counts.cov\n",
    "    ├── CRr1A1B1C\n",
    "    │   ├── CRr1A1B1C-contigs.1.bt2\n",
    "    │   ├── CRr1A1B1C-contigs.2.bt2\n",
    "    │   ├── CRr1A1B1C-contigs.3.bt2\n",
    "    │   ├── CRr1A1B1C-contigs.4.bt2\n",
    "    │   ├── CRr1A1B1C-contigs.rev.1.bt2\n",
    "    │   ├── CRr1A1B1C-contigs.rev.2.bt2\n",
    "    │   ├── CRr1A.bam\n",
    "    │   ├── CRr1A.bam.bai\n",
    "    │   ├── CRr1A.counts.cov\n",
    "    │   ├── CRr1B.bam\n",
    "    │   ├── CRr1B.bam.bai\n",
    "    │   ├── CRr1B.counts.cov\n",
    "    │   ├── CRr1C.bam\n",
    "    │   ├── CRr1C.bam.bai\n",
    "    │   └── CRr1C.counts.cov\n",
    "    ├── CRr2D2E2F\n",
    "    │   ├── CRr2D2E2F-contigs.1.bt2\n",
    "    │   ├── CRr2D2E2F-contigs.2.bt2\n",
    "    │   ├── CRr2D2E2F-contigs.3.bt2\n",
    "    │   ├── CRr2D2E2F-contigs.4.bt2\n",
    "    │   ├── CRr2D2E2F-contigs.rev.1.bt2\n",
    "    │   ├── CRr2D2E2F-contigs.rev.2.bt2\n",
    "    │   ├── CRr2D.bam\n",
    "    │   ├── CRr2D.bam.bai\n",
    "    │   ├── CRr2D.counts.cov\n",
    "    │   ├── CRr2E.bam\n",
    "    │   ├── CRr2E.bam.bai\n",
    "    │   ├── CRr2E.counts.cov\n",
    "    │   ├── CRr2F.bam\n",
    "    │   ├── CRr2F.bam.bai\n",
    "    │   └── CRr2F.counts.cov\n",
    "    ├── CRr3G3H3I\n",
    "    │   ├── CRr3G3H3I-contigs.1.bt2\n",
    "    │   ├── CRr3G3H3I-contigs.2.bt2\n",
    "    │   ├── CRr3G3H3I-contigs.3.bt2\n",
    "    │   ├── CRr3G3H3I-contigs.4.bt2\n",
    "    │   ├── CRr3G3H3I-contigs.rev.1.bt2\n",
    "    │   ├── CRr3G3H3I-contigs.rev.2.bt2\n",
    "    │   ├── CRr3G.bam\n",
    "    │   ├── CRr3G.bam.bai\n",
    "    │   ├── CRr3G.counts.cov\n",
    "    │   ├── CRr3H.bam\n",
    "    │   ├── CRr3H.bam.bai\n",
    "    │   ├── CRr3H.counts.cov\n",
    "    │   ├── CRr3I.bam\n",
    "    │   ├── CRr3I.bam.bai\n",
    "    │   └── CRr3I.counts.cov\n",
    "    ├── LABRr1A1B1C\n",
    "    │   ├── LABRr1A1B1C-contigs.1.bt2\n",
    "    │   ├── LABRr1A1B1C-contigs.2.bt2\n",
    "    │   ├── LABRr1A1B1C-contigs.3.bt2\n",
    "    │   ├── LABRr1A1B1C-contigs.4.bt2\n",
    "    │   ├── LABRr1A1B1C-contigs.rev.1.bt2\n",
    "    │   ├── LABRr1A1B1C-contigs.rev.2.bt2\n",
    "    │   ├── LABRr1A.bam\n",
    "    │   ├── LABRr1A.bam.bai\n",
    "    │   ├── LABRr1A.counts.cov\n",
    "    │   ├── LABRr1B.bam\n",
    "    │   ├── LABRr1B.bam.bai\n",
    "    │   ├── LABRr1B.counts.cov\n",
    "    │   ├── LABRr1C.bam\n",
    "    │   ├── LABRr1C.bam.bai\n",
    "    │   └── LABRr1C.counts.cov\n",
    "    ├── LASAr3G3H3I\n",
    "    │   ├── LASAr3G3H3I-contigs.1.bt2\n",
    "    │   ├── LASAr3G3H3I-contigs.2.bt2\n",
    "    │   ├── LASAr3G3H3I-contigs.3.bt2\n",
    "    │   ├── LASAr3G3H3I-contigs.4.bt2\n",
    "    │   ├── LASAr3G3H3I-contigs.rev.1.bt2\n",
    "    │   ├── LASAr3G3H3I-contigs.rev.2.bt2\n",
    "    │   ├── LASAr3G.bam\n",
    "    │   ├── LASAr3G.bam.bai\n",
    "    │   ├── LASAr3G.counts.cov\n",
    "    │   ├── LASAr3H.bam\n",
    "    │   ├── LASAr3H.bam.bai\n",
    "    │   ├── LASAr3H.counts.cov\n",
    "    │   ├── LASAr3I.bam\n",
    "    │   ├── LASAr3I.bam.bai\n",
    "    │   └── LASAr3I.counts.cov\n",
    "    ├── LASCr2D2E2F\n",
    "    │   ├── LASCr2D2E2F-contigs.1.bt2\n",
    "    │   ├── LASCr2D2E2F-contigs.2.bt2\n",
    "    │   ├── LASCr2D2E2F-contigs.3.bt2\n",
    "    │   ├── LASCr2D2E2F-contigs.4.bt2\n",
    "    │   ├── LASCr2D2E2F-contigs.rev.1.bt2\n",
    "    │   ├── LASCr2D2E2F-contigs.rev.2.bt2\n",
    "    │   ├── LASCr2D.bam\n",
    "    │   ├── LASCr2D.bam.bai\n",
    "    │   ├── LASCr2D.counts.cov\n",
    "    │   ├── LASCr2E.bam\n",
    "    │   ├── LASCr2E.bam.bai\n",
    "    │   ├── LASCr2E.counts.cov\n",
    "    │   ├── LASCr2F.bam\n",
    "    │   ├── LASCr2F.bam.bai\n",
    "    │   └── LASCr2F.counts.cov\n",
    "    ├── LASYr2D2E2F\n",
    "    │   ├── LASYr2D2E2F-contigs.1.bt2\n",
    "    │   ├── LASYr2D2E2F-contigs.2.bt2\n",
    "    │   ├── LASYr2D2E2F-contigs.3.bt2\n",
    "    │   ├── LASYr2D2E2F-contigs.4.bt2\n",
    "    │   ├── LASYr2D2E2F-contigs.rev.1.bt2\n",
    "    │   ├── LASYr2D2E2F-contigs.rev.2.bt2\n",
    "    │   ├── LASYr2D.bam\n",
    "    │   ├── LASYr2D.bam.bai\n",
    "    │   ├── LASYr2D.counts.cov\n",
    "    │   ├── LASYr2E.bam\n",
    "    │   ├── LASYr2E.bam.bai\n",
    "    │   ├── LASYr2E.counts.cov\n",
    "    │   ├── LASYr2F.bam\n",
    "    │   ├── LASYr2F.bam.bai\n",
    "    │   └── LASYr2F.counts.cov\n",
    "    ├── LAWAr2D2E2F\n",
    "    │   ├── LAWAr2D2E2F-contigs.1.bt2\n",
    "    │   ├── LAWAr2D2E2F-contigs.2.bt2\n",
    "    │   ├── LAWAr2D2E2F-contigs.3.bt2\n",
    "    │   ├── LAWAr2D2E2F-contigs.4.bt2\n",
    "    │   ├── LAWAr2D2E2F-contigs.rev.1.bt2\n",
    "    │   ├── LAWAr2D2E2F-contigs.rev.2.bt2\n",
    "    │   ├── LAWAr2D.bam\n",
    "    │   ├── LAWAr2D.bam.bai\n",
    "    │   ├── LAWAr2D.counts.cov\n",
    "    │   ├── LAWAr2E.bam\n",
    "    │   ├── LAWAr2E.bam.bai\n",
    "    │   ├── LAWAr2E.counts.cov\n",
    "    │   ├── LAWAr2F.bam\n",
    "    │   ├── LAWAr2F.bam.bai\n",
    "    │   └── LAWAr2F.counts.cov\n",
    "    ├── MGr1A1B1C\n",
    "    │   ├── MGr1A1B1C-contigs.1.bt2\n",
    "    │   ├── MGr1A1B1C-contigs.2.bt2\n",
    "    │   ├── MGr1A1B1C-contigs.3.bt2\n",
    "    │   ├── MGr1A1B1C-contigs.4.bt2\n",
    "    │   ├── MGr1A1B1C-contigs.rev.1.bt2\n",
    "    │   ├── MGr1A1B1C-contigs.rev.2.bt2\n",
    "    │   ├── MGr1A.bam\n",
    "    │   ├── MGr1A.bam.bai\n",
    "    │   ├── MGr1A.counts.cov\n",
    "    │   ├── MGr1B.bam\n",
    "    │   ├── MGr1B.bam.bai\n",
    "    │   ├── MGr1B.counts.cov\n",
    "    │   ├── MGr1C.bam\n",
    "    │   ├── MGr1C.bam.bai\n",
    "    │   └── MGr1C.counts.cov\n",
    "    ├── MGr2D2E2F\n",
    "    │   ├── MGr2D2E2F-contigs.1.bt2\n",
    "    │   ├── MGr2D2E2F-contigs.2.bt2\n",
    "    │   ├── MGr2D2E2F-contigs.3.bt2\n",
    "    │   ├── MGr2D2E2F-contigs.4.bt2\n",
    "    │   ├── MGr2D2E2F-contigs.rev.1.bt2\n",
    "    │   ├── MGr2D2E2F-contigs.rev.2.bt2\n",
    "    │   ├── MGr2D.bam\n",
    "    │   ├── MGr2D.bam.bai\n",
    "    │   ├── MGr2D.counts.cov\n",
    "    │   ├── MGr2E.bam\n",
    "    │   ├── MGr2E.bam.bai\n",
    "    │   ├── MGr2E.counts.cov\n",
    "    │   ├── MGr2F.bam\n",
    "    │   ├── MGr2F.bam.bai\n",
    "    │   └── MGr2F.counts.cov\n",
    "    ├── MGr3G3H3I\n",
    "    │   ├── MGr3G3H3I-contigs.1.bt2\n",
    "    │   ├── MGr3G3H3I-contigs.2.bt2\n",
    "    │   ├── MGr3G3H3I-contigs.3.bt2\n",
    "    │   ├── MGr3G3H3I-contigs.4.bt2\n",
    "    │   ├── MGr3G3H3I-contigs.rev.1.bt2\n",
    "    │   ├── MGr3G3H3I-contigs.rev.2.bt2\n",
    "    │   ├── MGr3G.bam\n",
    "    │   ├── MGr3G.bam.bai\n",
    "    │   ├── MGr3G.counts.cov\n",
    "    │   ├── MGr3H.bam\n",
    "    │   ├── MGr3H.bam.bai\n",
    "    │   ├── MGr3H.counts.cov\n",
    "    │   ├── MGr3I.bam\n",
    "    │   ├── MGr3I.bam.bai\n",
    "    │   └── MGr3I.counts.cov\n",
    "    ├── MHr1A1B1C\n",
    "    │   ├── MHr1A1B1C-contigs.1.bt2\n",
    "    │   ├── MHr1A1B1C-contigs.2.bt2\n",
    "    │   ├── MHr1A1B1C-contigs.3.bt2\n",
    "    │   ├── MHr1A1B1C-contigs.4.bt2\n",
    "    │   ├── MHr1A1B1C-contigs.rev.1.bt2\n",
    "    │   ├── MHr1A1B1C-contigs.rev.2.bt2\n",
    "    │   ├── MHr1A.bam\n",
    "    │   ├── MHr1A.bam.bai\n",
    "    │   ├── MHr1A.counts.cov\n",
    "    │   ├── MHr1B.bam\n",
    "    │   ├── MHr1B.bam.bai\n",
    "    │   ├── MHr1B.counts.cov\n",
    "    │   ├── MHr1C.bam\n",
    "    │   ├── MHr1C.bam.bai\n",
    "    │   └── MHr1C.counts.cov\n",
    "    ├── MHr2D2E2F\n",
    "    │   ├── MHr2D2E2F-contigs.1.bt2\n",
    "    │   ├── MHr2D2E2F-contigs.2.bt2\n",
    "    │   ├── MHr2D2E2F-contigs.3.bt2\n",
    "    │   ├── MHr2D2E2F-contigs.4.bt2\n",
    "    │   ├── MHr2D2E2F-contigs.rev.1.bt2\n",
    "    │   ├── MHr2D2E2F-contigs.rev.2.bt2\n",
    "    │   ├── MHr2D.bam\n",
    "    │   ├── MHr2D.bam.bai\n",
    "    │   ├── MHr2D.counts.cov\n",
    "    │   ├── MHr2E.bam\n",
    "    │   ├── MHr2E.bam.bai\n",
    "    │   ├── MHr2E.counts.cov\n",
    "    │   ├── MHr2F.bam\n",
    "    │   ├── MHr2F.bam.bai\n",
    "    │   └── MHr2F.counts.cov\n",
    "    ├── MHr3G3H3I\n",
    "    │   ├── MHr3G3H3I-contigs.1.bt2\n",
    "    │   ├── MHr3G3H3I-contigs.2.bt2\n",
    "    │   ├── MHr3G3H3I-contigs.3.bt2\n",
    "    │   ├── MHr3G3H3I-contigs.4.bt2\n",
    "    │   ├── MHr3G3H3I-contigs.rev.1.bt2\n",
    "    │   ├── MHr3G3H3I-contigs.rev.2.bt2\n",
    "    │   ├── MHr3G.bam\n",
    "    │   ├── MHr3G.bam.bai\n",
    "    │   ├── MHr3G.counts.cov\n",
    "    │   ├── MHr3H.bam\n",
    "    │   ├── MHr3H.bam.bai\n",
    "    │   ├── MHr3H.counts.cov\n",
    "    │   ├── MHr3I.bam\n",
    "    │   ├── MHr3I.bam.bai\n",
    "    │   └── MHr3I.counts.cov\n",
    "    ├── SEr2D2E2F\n",
    "    │   ├── SEr2D2E2F-contigs.1.bt2\n",
    "    │   ├── SEr2D2E2F-contigs.2.bt2\n",
    "    │   ├── SEr2D2E2F-contigs.3.bt2\n",
    "    │   ├── SEr2D2E2F-contigs.4.bt2\n",
    "    │   ├── SEr2D2E2F-contigs.rev.1.bt2\n",
    "    │   ├── SEr2D2E2F-contigs.rev.2.bt2\n",
    "    │   ├── SEr2D.bam\n",
    "    │   ├── SEr2D.bam.bai\n",
    "    │   ├── SEr2D.counts.cov\n",
    "    │   ├── SEr2E.bam\n",
    "    │   ├── SEr2E.bam.bai\n",
    "    │   ├── SEr2E.counts.cov\n",
    "    │   ├── SEr2F.bam\n",
    "    │   ├── SEr2F.bam.bai\n",
    "    │   └── SEr2F.counts.cov\n",
    "    └── SEr3G3H3I\n",
    "        ├── SEr3G3H3I-contigs.1.bt2\n",
    "        ├── SEr3G3H3I-contigs.2.bt2\n",
    "        ├── SEr3G3H3I-contigs.3.bt2\n",
    "        ├── SEr3G3H3I-contigs.4.bt2\n",
    "        ├── SEr3G3H3I-contigs.rev.1.bt2\n",
    "        ├── SEr3G3H3I-contigs.rev.2.bt2\n",
    "        ├── SEr3G.bam\n",
    "        ├── SEr3G.bam.bai\n",
    "        ├── SEr3G.counts.cov\n",
    "        ├── SEr3H.bam\n",
    "        ├── SEr3H.bam.bai\n",
    "        ├── SEr3H.counts.cov\n",
    "        ├── SEr3I.bam\n",
    "        ├── SEr3I.bam.bai\n",
    "        └── SEr3I.counts.cov"
   ]
  },
  {
   "cell_type": "markdown",
   "metadata": {},
   "source": [
    "## Bin contigs into MAGs with MetaBAT2"
   ]
  },
  {
   "cell_type": "code",
   "execution_count": 5,
   "metadata": {
    "vscode": {
     "languageId": "shellscript"
    }
   },
   "outputs": [
    {
     "name": "stdout",
     "output_type": "stream",
     "text": [
      "BAr2D2E2F\n",
      "LABRr1A1B1C\n",
      "LAWAr2D2E2F\n",
      "MHr3G3H3I\n",
      "MGr1A1B1C\n",
      "CRr2D2E2F\n",
      "MHr2D2E2F\n",
      "MHr1A1B1C\n",
      "BOr3G3H3I\n",
      "MGr3G3H3I\n",
      "LASCr2D2E2F\n",
      "SEr3G3H3I\n",
      "BOr1A1B1C\n",
      "MGr2D2E2F\n",
      "LASYr2D2E2F\n",
      "CRr3G3H3I\n",
      "LASAr3G3H3I\n",
      "SEr2D2E2F\n",
      "BAr3G3H3I\n",
      "BAr1A1B1C\n",
      "CRr1A1B1C\n",
      "BOr2D2E2F\n"
     ]
    }
   ],
   "source": [
    "! cat ./Scripts/metagenome_samples.txt"
   ]
  },
  {
   "cell_type": "code",
   "execution_count": 6,
   "metadata": {
    "vscode": {
     "languageId": "shellscript"
    }
   },
   "outputs": [
    {
     "name": "stdout",
     "output_type": "stream",
     "text": [
      "#!/bin/sh\n",
      "# run_metabat2.sh\n",
      "\n",
      "THREADS=\"64\"\n",
      "SAMPLES=\"metagenome_samples.txt\"\n",
      "\n",
      "mkdir -p metabat2_bins && cd metabat2_bins\n",
      "\n",
      "while IFS= read -r SAMPLE || [ -n \"$SAMPLE\" ]\n",
      "do\n",
      "    # Skip empty lines\n",
      "    if [ -z \"$SAMPLE\" ]; then\n",
      "        continue\n",
      "    fi\n",
      "\n",
      "    echo \"Binning sample: $SAMPLE\"\n",
      "\n",
      "    # Command to run for each sample\n",
      "    runMetaBat.sh -m 2500 --maxP 95 --minS 60 --minCV 1 --minClsSize 200000 --numThreads $THREADS ../fasta/${SAMPLE}-contigs-prefix-formatted-only.fasta ../04_MAPPING/${SAMPLE}/*.bam\n",
      "    echo \"Done ${SAMPLE}\"\n",
      "done < ../\"$SAMPLES\"\n",
      "\n"
     ]
    }
   ],
   "source": [
    "! cat ./Scripts/run_metabat2.sh"
   ]
  },
  {
   "cell_type": "markdown",
   "metadata": {},
   "source": [
    "## Quality Check MAGs with CheckM"
   ]
  },
  {
   "cell_type": "code",
   "execution_count": 8,
   "metadata": {
    "vscode": {
     "languageId": "shellscript"
    }
   },
   "outputs": [
    {
     "name": "stdout",
     "output_type": "stream",
     "text": [
      "#!/bin/sh\n",
      "# run_checkm.sh\n",
      "\n",
      "THREADS=\"64\"\n",
      "SAMPLES=\"metagenome_samples.txt\"\n",
      "\n",
      "mkdir -p checkm\n",
      "\n",
      "while IFS= read -r SAMPLE || [ -n \"$SAMPLE\" ]\n",
      "do\n",
      "    # Skip empty lines\n",
      "    if [ -z \"$SAMPLE\" ]; then\n",
      "        continue\n",
      "    fi\n",
      "\n",
      "    # Find the path to the metaBAT2 folder for the current sample\n",
      "    # Using 'find' with wildcards '*' because folder names can vary\n",
      "    MAG_DIR=$(find metabat2_bins -name ${SAMPLE}*.metabat-bins*)\n",
      "\n",
      "    echo \"Running CheckM on sample $SAMPLE\"\n",
      "\n",
      "    # Command to run for each sample\n",
      "    checkm lineage_wf \\\n",
      "        --extension fa \\\n",
      "        --threads \"$THREADS\" \\\n",
      "        --file \"checkm/${SAMPLE}/${SAMPLE}_quality.txt\" \\\n",
      "\t--tab_table \\\n",
      "        \"$MAG_DIR\" \\\n",
      "        \"checkm/${SAMPLE}\"\n",
      "    echo \"Done ${SAMPLE}\"\n",
      "done < \"$SAMPLES\"\n"
     ]
    }
   ],
   "source": [
    "! cat ./Scripts/run_checkm.sh"
   ]
  },
  {
   "cell_type": "markdown",
   "metadata": {},
   "source": [
    "For each set of input MAGs per sample, their quality estimations are found in a table with a name ending in _quality.txt. I will use the script `sort_mags.py` to make links to the medium and high quality MAGs **(High Quality: >= 90% completeness & <= 10% contamination; Medium Quality 50% <= completeness < 90% & contmaination <= 10%)**. This script will create links to the original .fa files produced by metaBAT2 (so don't remove the originals, they are not copies, just shortcuts!). The links will be created beneath the new folder sorted_mags be sorted into sub folders high_quality, medium_quality, and low_quality based on the thresholds described above, but they can be adjusted. A table named checkm_summary.txt will be written by this script that will display the determied qualities for each bin. The filenames for the links will be prepended with their sample name, so checkm_summary.txt also provides a key to convert the old MAG names to the new ones:"
   ]
  },
  {
   "cell_type": "code",
   "execution_count": 9,
   "metadata": {
    "vscode": {
     "languageId": "shellscript"
    }
   },
   "outputs": [
    {
     "name": "stdout",
     "output_type": "stream",
     "text": [
      "# sort_mags.py\n",
      "\n",
      "import os\n",
      "import csv\n",
      "from pathlib import Path\n",
      "\n",
      "def process_sample(sample, checkm_path, metabat2_bins_path, sorted_mags_path, summary_writer):\n",
      "    quality_file = checkm_path / f\"{sample}/{sample}_quality.txt\"\n",
      "    \n",
      "    # Check if the quality file exists before proceeding\n",
      "    if not quality_file.exists():\n",
      "        print(f\"Quality file not found for sample {sample}, skipping...\")\n",
      "        return\n",
      "    \n",
      "    bins_dir = next(metabat2_bins_path.glob(f\"{sample}_*.metabat-bins-*\"), None)\n",
      "\n",
      "    if not bins_dir:\n",
      "        print(f\"Bins directory not found for sample {sample}, skipping...\")\n",
      "        return\n",
      "\n",
      "    with quality_file.open() as f:\n",
      "        reader = csv.DictReader(f, delimiter='\\t')\n",
      "        for row in reader:\n",
      "            bin_id = row['Bin Id']\n",
      "            new_bin_id = f\"{sample}__{bin_id.replace('bin.', 'bin_')}\"\n",
      "            completeness = float(row['Completeness'])\n",
      "            contamination = float(row['Contamination'])\n",
      "\n",
      "            if completeness >= 90.0 and contamination <= 10.0:\n",
      "                quality = \"high_quality\"\n",
      "            elif 50.0 <= completeness < 90.0 and contamination <= 10.0:\n",
      "                quality = \"medium_quality\"\n",
      "            else:\n",
      "                quality = \"low_quality\"\n",
      "\n",
      "            fa_file_path = bins_dir / f\"{bin_id}.fa\"\n",
      "            if fa_file_path.exists():\n",
      "                quality_dir = sorted_mags_path / quality\n",
      "                quality_dir.mkdir(parents=True, exist_ok=True)\n",
      "                symlink_filename = f\"{new_bin_id}.fa\"\n",
      "                symlink_path = quality_dir / symlink_filename\n",
      "                if not symlink_path.exists():\n",
      "                    symlink_path.symlink_to(fa_file_path.resolve())\n",
      "\n",
      "                summary_writer.writerow([bin_id, sample, new_bin_id, completeness, contamination, quality])\n",
      "\n",
      "def main(checkm_path_str, metabat2_bins_path_str, sorted_mags_path_str):\n",
      "    checkm_path = Path(checkm_path_str)\n",
      "    metabat2_bins_path = Path(metabat2_bins_path_str)\n",
      "    sorted_mags_path = Path(sorted_mags_path_str)\n",
      "    \n",
      "    # Create sorted_mags directory and its subdirectories\n",
      "    sorted_mags_path.mkdir(parents=True, exist_ok=True)\n",
      "\n",
      "    summary_file_path = sorted_mags_path / \"checkm_summary.txt\"\n",
      "    with summary_file_path.open('w', newline='') as summary_file:\n",
      "        writer = csv.writer(summary_file, delimiter='\\t')\n",
      "        writer.writerow([\"BinID\", \"Sample\", \"NewBinID\", \"Completeness\", \"Contamination\", \"Quality\"])\n",
      "\n",
      "        for sample_dir in checkm_path.iterdir():\n",
      "            if sample_dir.is_dir():\n",
      "                sample = sample_dir.name\n",
      "                process_sample(sample, checkm_path, metabat2_bins_path, sorted_mags_path, writer)\n",
      "\n",
      "if __name__ == \"__main__\":\n",
      "    checkm_path = \"checkm\"\n",
      "    metabat2_bins_path = \"metabat2_bins\"\n",
      "    sorted_mags_path = \"sorted_mags\"\n",
      "    main(checkm_path, metabat2_bins_path, sorted_mags_path)\n"
     ]
    }
   ],
   "source": [
    "! cat ./Scripts/sort_mags.py"
   ]
  },
  {
   "cell_type": "markdown",
   "metadata": {},
   "source": [
    "## Run the GTDB-tk *de novo* workflow on the high- and medium-quality MAGs"
   ]
  },
  {
   "cell_type": "markdown",
   "metadata": {},
   "source": [
    "### Bacteria workflow"
   ]
  },
  {
   "cell_type": "markdown",
   "metadata": {
    "vscode": {
     "languageId": "raw"
    }
   },
   "source": [
    "    nohup gtdbtk de_novo_wf \\\n",
    "        --genome_dir ./sorted_mags/high_medium_quality \\\n",
    "        --bacteria \\\n",
    "        --outgroup_taxon p__Patescibacteria \\\n",
    "        --out_dir ./gtdb_high_medium_quality_mags \\\n",
    "        --force \\\n",
    "        --extension fa \\\n",
    "        --cpus 100 \\\n",
    "        > gtdbtk_bac.log &"
   ]
  },
  {
   "cell_type": "markdown",
   "metadata": {},
   "source": [
    "### Archaea workflow"
   ]
  },
  {
   "cell_type": "markdown",
   "metadata": {
    "vscode": {
     "languageId": "raw"
    }
   },
   "source": [
    "    nohup gtdbtk de_novo_wf \\\n",
    "        --genome_dir ./sorted_mags/high_medium_quality \\\n",
    "        --archaea \\\n",
    "        --outgroup_taxon p__Altiarchaeota \\\n",
    "        --out_dir ./gtdb_high_medium_quality_mags \\\n",
    "        --force \\\n",
    "        --extension fa \\\n",
    "        --cpus 100 \\\n",
    "        > gtdbtk_arc.log &"
   ]
  },
  {
   "cell_type": "markdown",
   "metadata": {},
   "source": [
    "## Create a custom iPHoP database from the high- and medium-quality MAGs"
   ]
  },
  {
   "cell_type": "markdown",
   "metadata": {
    "vscode": {
     "languageId": "raw"
    }
   },
   "source": [
    "    nohup iphop add_to_db \\\n",
    "        --fna_dir ./sorted_mags/high_medium_quality \\\n",
    "        --gtdb_dir ./gtdb_high_medium_quality_mags \\\n",
    "        --out_dir ./iphop_db_Aug23_rw_with_high_medium_quality_mags \\\n",
    "        --db_dir /storage2/scratch/kosmopoulos/ViWrap_db/iPHoP_db/iPHoP_db/ \\\n",
    "        --num_threads 100 \\\n",
    "        > iphop_add_to_db.log &"
   ]
  },
  {
   "cell_type": "markdown",
   "metadata": {},
   "source": [
    "## Parallel ViWrap job executions\n",
    "ViWrap was executed in paralell using the python tool [pyapply](https://github.com/cody-mar10/pyapply) by Cody Martin."
   ]
  },
  {
   "cell_type": "markdown",
   "metadata": {},
   "source": [
    "**NOTE**: assembled contigs within the `02_CONTIGS` directory created by Anvi'o were copied and renamed for simplicity, but their contents remained the same.\n",
    "\n",
    "Pyapply config for Metagenomes:"
   ]
  },
  {
   "cell_type": "code",
   "execution_count": 11,
   "metadata": {
    "vscode": {
     "languageId": "shellscript"
    }
   },
   "outputs": [
    {
     "name": "stdout",
     "output_type": "stream",
     "text": [
      "FASTA\tREADS\tOUT\n",
      "./fasta/BAr1A1B1C.fasta\t./01_QC/BAr1A-QUALITY_PASSED_R1.fastq.gz,./01_QC/BAr1A-QUALITY_PASSED_R2.fastq.gz,./01_QC/BAr1B-QUALITY_PASSED_R1.fastq.gz,./01_QC/BAr1B-QUALITY_PASSED_R2.fastq.gz,./01_QC/BAr1C-QUALITY_PASSED_R1.fastq.gz,./01_QC/BAr1C-QUALITY_PASSED_R2.fastq.gz\t./ViWrap_results/BAr1A1B1C\n",
      "./fasta/BAr2D2E2F.fasta\t./01_QC/BAr2D-QUALITY_PASSED_R1.fastq.gz,./01_QC/BAr2D-QUALITY_PASSED_R2.fastq.gz,./01_QC/BAr2E-QUALITY_PASSED_R1.fastq.gz,./01_QC/BAr2E-QUALITY_PASSED_R2.fastq.gz,./01_QC/BAr2F-QUALITY_PASSED_R1.fastq.gz,./01_QC/BAr2F-QUALITY_PASSED_R2.fastq.gz\t./ViWrap_results/BAr2D2E2F\n",
      "./fasta/BAr3G3H3I.fasta\t./01_QC/BAr3G-QUALITY_PASSED_R1.fastq.gz,./01_QC/BAr3G-QUALITY_PASSED_R2.fastq.gz,./01_QC/BAr3H-QUALITY_PASSED_R1.fastq.gz,./01_QC/BAr3H-QUALITY_PASSED_R2.fastq.gz,./01_QC/BAr3I-QUALITY_PASSED_R1.fastq.gz,./01_QC/BAr3I-QUALITY_PASSED_R2.fastq.gz\t./ViWrap_results/BAr3G3H3I\n",
      "./fasta/BOr1A1B1C.fasta\t./01_QC/BOr1A-QUALITY_PASSED_R1.fastq.gz,./01_QC/BOr1A-QUALITY_PASSED_R2.fastq.gz,./01_QC/BOr1B-QUALITY_PASSED_R1.fastq.gz,./01_QC/BOr1B-QUALITY_PASSED_R2.fastq.gz,./01_QC/BOr1C-QUALITY_PASSED_R1.fastq.gz,./01_QC/BOr1C-QUALITY_PASSED_R2.fastq.gz\t./ViWrap_results/BOr1A1B1C\n",
      "./fasta/BOr2D2E2F.fasta\t./01_QC/BOr2D-QUALITY_PASSED_R1.fastq.gz,./01_QC/BOr2D-QUALITY_PASSED_R2.fastq.gz,./01_QC/BOr2E-QUALITY_PASSED_R1.fastq.gz,./01_QC/BOr2E-QUALITY_PASSED_R2.fastq.gz,./01_QC/BOr2F-QUALITY_PASSED_R1.fastq.gz,./01_QC/BOr2F-QUALITY_PASSED_R2.fastq.gz\t./ViWrap_results/BOr2D2E2F\n",
      "./fasta/BOr3G3H3I.fasta\t./01_QC/BOr3G-QUALITY_PASSED_R1.fastq.gz,./01_QC/BOr3G-QUALITY_PASSED_R2.fastq.gz,./01_QC/BOr3H-QUALITY_PASSED_R1.fastq.gz,./01_QC/BOr3H-QUALITY_PASSED_R2.fastq.gz,./01_QC/BOr3I-QUALITY_PASSED_R1.fastq.gz,./01_QC/BOr3I-QUALITY_PASSED_R2.fastq.gz\t./ViWrap_results/BOr3G3H3I\n",
      "./fasta/CRr1A1B1C.fasta\t./01_QC/CRr1A-QUALITY_PASSED_R1.fastq.gz,./01_QC/CRr1A-QUALITY_PASSED_R2.fastq.gz,./01_QC/CRr1B-QUALITY_PASSED_R1.fastq.gz,./01_QC/CRr1B-QUALITY_PASSED_R2.fastq.gz,./01_QC/CRr1C-QUALITY_PASSED_R1.fastq.gz,./01_QC/CRr1C-QUALITY_PASSED_R2.fastq.gz\t./ViWrap_results/CRr1A1B1C\n",
      "./fasta/CRr2D2E2F.fasta\t./01_QC/CRr2D-QUALITY_PASSED_R1.fastq.gz,./01_QC/CRr2D-QUALITY_PASSED_R2.fastq.gz,./01_QC/CRr2E-QUALITY_PASSED_R1.fastq.gz,./01_QC/CRr2E-QUALITY_PASSED_R2.fastq.gz,./01_QC/CRr2F-QUALITY_PASSED_R1.fastq.gz,./01_QC/CRr2F-QUALITY_PASSED_R2.fastq.gz\t./ViWrap_results/CRr2D2E2F\n",
      "./fasta/CRr3G3H3I.fasta\t./01_QC/CRr3G-QUALITY_PASSED_R1.fastq.gz,./01_QC/CRr3G-QUALITY_PASSED_R2.fastq.gz,./01_QC/CRr3H-QUALITY_PASSED_R1.fastq.gz,./01_QC/CRr3H-QUALITY_PASSED_R2.fastq.gz,./01_QC/CRr3I-QUALITY_PASSED_R1.fastq.gz,./01_QC/CRr3I-QUALITY_PASSED_R2.fastq.gz\t./ViWrap_results/CRr3G3H3I\n",
      "./fasta/LABRr1A1B1C.fasta\t./01_QC/LABRr1A-QUALITY_PASSED_R1.fastq.gz,./01_QC/LABRr1A-QUALITY_PASSED_R2.fastq.gz,./01_QC/LABRr1B-QUALITY_PASSED_R1.fastq.gz,./01_QC/LABRr1B-QUALITY_PASSED_R2.fastq.gz,./01_QC/LABRr1C-QUALITY_PASSED_R1.fastq.gz,./01_QC/LABRr1C-QUALITY_PASSED_R2.fastq.gz\t./ViWrap_results/LABRr1A1B1C\n",
      "./fasta/LASAr3G3H3I.fasta\t./01_QC/LASAr3G-QUALITY_PASSED_R1.fastq.gz,./01_QC/LASAr3G-QUALITY_PASSED_R2.fastq.gz,./01_QC/LASAr3H-QUALITY_PASSED_R1.fastq.gz,./01_QC/LASAr3H-QUALITY_PASSED_R2.fastq.gz,./01_QC/LASAr3I-QUALITY_PASSED_R1.fastq.gz,./01_QC/LASAr3I-QUALITY_PASSED_R2.fastq.gz\t./ViWrap_results/LASAr3G3H3I\n",
      "./fasta/LASCr2D2E2F.fasta\t./01_QC/LASCr2D-QUALITY_PASSED_R1.fastq.gz,./01_QC/LASCr2D-QUALITY_PASSED_R2.fastq.gz,./01_QC/LASCr2E-QUALITY_PASSED_R1.fastq.gz,./01_QC/LASCr2E-QUALITY_PASSED_R2.fastq.gz,./01_QC/LASCr2F-QUALITY_PASSED_R1.fastq.gz,./01_QC/LASCr2F-QUALITY_PASSED_R2.fastq.gz\t./ViWrap_results/LASCr2D2E2F\n",
      "./fasta/LASYr2D2E2F.fasta\t./01_QC/LASYr2D-QUALITY_PASSED_R1.fastq.gz,./01_QC/LASYr2D-QUALITY_PASSED_R2.fastq.gz,./01_QC/LASYr2E-QUALITY_PASSED_R1.fastq.gz,./01_QC/LASYr2E-QUALITY_PASSED_R2.fastq.gz,./01_QC/LASYr2F-QUALITY_PASSED_R1.fastq.gz,./01_QC/LASYr2F-QUALITY_PASSED_R2.fastq.gz\t./ViWrap_results/LASYr2D2E2F\n",
      "./fasta/LAWAr2D2E2F.fasta\t./01_QC/LAWAr2D-QUALITY_PASSED_R1.fastq.gz,./01_QC/LAWAr2D-QUALITY_PASSED_R2.fastq.gz,./01_QC/LAWAr2E-QUALITY_PASSED_R1.fastq.gz,./01_QC/LAWAr2E-QUALITY_PASSED_R2.fastq.gz,./01_QC/LAWAr2F-QUALITY_PASSED_R1.fastq.gz,./01_QC/LAWAr2F-QUALITY_PASSED_R2.fastq.gz\t./ViWrap_results/LAWAr2D2E2F\n",
      "./fasta/MGr1A1B1C.fasta\t./01_QC/MGr1A-QUALITY_PASSED_R1.fastq.gz,./01_QC/MGr1A-QUALITY_PASSED_R2.fastq.gz,./01_QC/MGr1B-QUALITY_PASSED_R1.fastq.gz,./01_QC/MGr1B-QUALITY_PASSED_R2.fastq.gz,./01_QC/MGr1C-QUALITY_PASSED_R1.fastq.gz,./01_QC/MGr1C-QUALITY_PASSED_R2.fastq.gz\t./ViWrap_results/MGr1A1B1C\n",
      "./fasta/MGr2D2E2F.fasta\t./01_QC/MGr2D-QUALITY_PASSED_R1.fastq.gz,./01_QC/MGr2D-QUALITY_PASSED_R2.fastq.gz,./01_QC/MGr2E-QUALITY_PASSED_R1.fastq.gz,./01_QC/MGr2E-QUALITY_PASSED_R2.fastq.gz,./01_QC/MGr2F-QUALITY_PASSED_R1.fastq.gz,./01_QC/MGr2F-QUALITY_PASSED_R2.fastq.gz\t./ViWrap_results/MGr2D2E2F\n",
      "./fasta/MGr3G3H3I.fasta\t./01_QC/MGr3G-QUALITY_PASSED_R1.fastq.gz,./01_QC/MGr3G-QUALITY_PASSED_R2.fastq.gz,./01_QC/MGr3H-QUALITY_PASSED_R1.fastq.gz,./01_QC/MGr3H-QUALITY_PASSED_R2.fastq.gz,./01_QC/MGr3I-QUALITY_PASSED_R1.fastq.gz,./01_QC/MGr3I-QUALITY_PASSED_R2.fastq.gz\t./ViWrap_results/MGr3G3H3I\n",
      "./fasta/MHr1A1B1C.fasta\t./01_QC/MHr1A-QUALITY_PASSED_R1.fastq.gz,./01_QC/MHr1A-QUALITY_PASSED_R2.fastq.gz,./01_QC/MHr1B-QUALITY_PASSED_R1.fastq.gz,./01_QC/MHr1B-QUALITY_PASSED_R2.fastq.gz,./01_QC/MHr1C-QUALITY_PASSED_R1.fastq.gz,./01_QC/MHr1C-QUALITY_PASSED_R2.fastq.gz\t./ViWrap_results/MHr1A1B1C\n",
      "./fasta/MHr2D2E2F.fasta\t./01_QC/MHr2D-QUALITY_PASSED_R1.fastq.gz,./01_QC/MHr2D-QUALITY_PASSED_R2.fastq.gz,./01_QC/MHr2E-QUALITY_PASSED_R1.fastq.gz,./01_QC/MHr2E-QUALITY_PASSED_R2.fastq.gz,./01_QC/MHr2F-QUALITY_PASSED_R1.fastq.gz,./01_QC/MHr2F-QUALITY_PASSED_R2.fastq.gz\t./ViWrap_results/MHr2D2E2F\n",
      "./fasta/MHr3G3H3I.fasta\t./01_QC/MHr3G-QUALITY_PASSED_R1.fastq.gz,./01_QC/MHr3G-QUALITY_PASSED_R2.fastq.gz,./01_QC/MHr3H-QUALITY_PASSED_R1.fastq.gz,./01_QC/MHr3H-QUALITY_PASSED_R2.fastq.gz,./01_QC/MHr3I-QUALITY_PASSED_R1.fastq.gz,./01_QC/MHr3I-QUALITY_PASSED_R2.fastq.gz\t./ViWrap_results/MHr3G3H3I\n",
      "./fasta/SEr2D2E2F.fasta\t./01_QC/SEr2D-QUALITY_PASSED_R1.fastq.gz,./01_QC/SEr2D-QUALITY_PASSED_R2.fastq.gz,./01_QC/SEr2E-QUALITY_PASSED_R1.fastq.gz,./01_QC/SEr2E-QUALITY_PASSED_R2.fastq.gz,./01_QC/SEr2F-QUALITY_PASSED_R1.fastq.gz,./01_QC/SEr2F-QUALITY_PASSED_R2.fastq.gz\t./ViWrap_results/SEr2D2E2F\n",
      "./fasta/SEr3G3H3I.fasta\t./01_QC/SEr3G-QUALITY_PASSED_R1.fastq.gz,./01_QC/SEr3G-QUALITY_PASSED_R2.fastq.gz,./01_QC/SEr3H-QUALITY_PASSED_R1.fastq.gz,./01_QC/SEr3H-QUALITY_PASSED_R2.fastq.gz,./01_QC/SEr3I-QUALITY_PASSED_R1.fastq.gz,./01_QC/SEr3I-QUALITY_PASSED_R2.fastq.gz\t./ViWrap_results/SEr3G3H3I"
     ]
    }
   ],
   "source": [
    "! cat ./Scripts/ViWrap_pyapply_config.txt"
   ]
  },
  {
   "cell_type": "markdown",
   "metadata": {},
   "source": [
    "Pyapply/ViWrap command for metagenomes:"
   ]
  },
  {
   "cell_type": "markdown",
   "metadata": {
    "vscode": {
     "languageId": "raw"
    }
   },
   "source": [
    "    nohup pyapply \\\n",
    "        ./Scripts/ViWrap_pyapply_config.txt \\\n",
    "            ViWrap run \\\n",
    "            --input_metagenome{FASTA} \\\n",
    "            --input_reads{READS} \\\n",
    "            --out_dir{OUTDIR} \\\n",
    "            --db_dir ViWrap_db \\\n",
    "            --identify_method genomad \\\n",
    "            --input_length_limit 2000 \\\n",
    "            --reads_mapping_identity_cutoff 0.97 \\\n",
    "            --conda_env_dir ViWrap_conda_environments \\\n",
    "            --iPHoP_db_custom_pre ./iphop_db_Aug23_rw_with_high_medium_quality_mags \\\n",
    "            -t 6 \\\n",
    "        --py-maxcpus 132 \\\n",
    "        --py-cpuarg=-t \\\n",
    "        > viwrap.pyapply.log &"
   ]
  },
  {
   "cell_type": "markdown",
   "metadata": {},
   "source": [
    "## Re-run iPHoP (v1.3.3) on all vMAGs and high/medium quality MAGs\n",
    "Because ViWrap's db is outdated and leads to inconsistent taxonomic assignments (e.g. \"Proteobacteria\" for iPHoP db MAGs and \"Pseudomonadota\" for custom MAGs)."
   ]
  },
  {
   "cell_type": "markdown",
   "metadata": {},
   "source": [
    "### Make the new iPHoP database\n",
    "Using the name of the old database that falsely implied the Aug_2023_rw database was used"
   ]
  },
  {
   "cell_type": "markdown",
   "metadata": {
    "vscode": {
     "languageId": "raw"
    }
   },
   "source": [
    "    nohup iphop add_to_db \\\n",
    "        --fna_dir ./sorted_mags/high_medium_quality/ \\\n",
    "        --gtdb_dir ./gtdb_high_medium_quality_mags/ \\\n",
    "        --out_dir ./iphop_db_Aug23_rw_with_high_medium_quality_mags/ \\\n",
    "        --db_dir iPHoP/Aug_2023_pub_rw/ \\\n",
    "        --num_threads 192 \\\n",
    "        > iphop_add_to_db_new.log &"
   ]
  },
  {
   "cell_type": "markdown",
   "metadata": {},
   "source": [
    "### Run iPHoP predict"
   ]
  },
  {
   "cell_type": "markdown",
   "metadata": {
    "vscode": {
     "languageId": "raw"
    }
   },
   "source": [
    "    nohup iphop predict \\\n",
    "        --fa_file ./vMAGs_linked.fasta \\\n",
    "        --db_dir ./iphop_db_Aug23_rw_with_high_medium_quality_mags \\\n",
    "        --out_dir ./iphop_predictions_Aug23_rw_with_high_medium_quality_mags \\\n",
    "        --min_score 90 \\\n",
    "        --no_qc \\\n",
    "        --num_threads 120 \\\n",
    "        > iphop_predict_new.log &  \n"
   ]
  },
  {
   "cell_type": "markdown",
   "metadata": {},
   "source": [
    "## Dereplicate vMAGs with dRep v3.5.0"
   ]
  },
  {
   "cell_type": "markdown",
   "metadata": {},
   "source": [
    "Rename vMAG fasta files so they contain sample names"
   ]
  },
  {
   "cell_type": "code",
   "execution_count": 13,
   "metadata": {
    "vscode": {
     "languageId": "shellscript"
    }
   },
   "outputs": [
    {
     "name": "stdout",
     "output_type": "stream",
     "text": [
      "#!/bin/bash\n",
      "\n",
      "# Define the destination directory\n",
      "destination_dir=\"vMAGs\"\n",
      "\n",
      "# Create the destination directory if it doesn't exist\n",
      "mkdir -p \"$destination_dir\"\n",
      "\n",
      "# Loop through each subdirectory in the ViWrap_results directory\n",
      "for sample_dir in ./ViWrap_results/*/08_ViWrap_summary_outdir/Virus_genomes_files/; do\n",
      "  # Get the sample name by extracting the directory name directly under ViWrap_results\n",
      "  sample_name=$(basename $(dirname $(dirname \"$sample_dir\")))\n",
      "\n",
      "  # Loop through each file in the current sample directory\n",
      "  for file in \"$sample_dir\"/*; do\n",
      "    # Get the filename without the directory path\n",
      "    filename=$(basename \"$file\")\n",
      "\n",
      "    # Construct the new filename with the sample name prefix\n",
      "    new_filename=\"${sample_name}_${filename}\"\n",
      "\n",
      "    # Copy the file to the destination directory with the new name\n",
      "    cp \"$file\" \"$destination_dir/$new_filename\"\n",
      "  done\n",
      "done\n",
      "\n",
      "echo \"Files copied and renamed successfully.\""
     ]
    }
   ],
   "source": [
    "! cat ./Scripts/rename_vmags.sh"
   ]
  },
  {
   "cell_type": "markdown",
   "metadata": {},
   "source": [
    "### Generate a text file containing the full paths to the renames vMAGs"
   ]
  },
  {
   "cell_type": "markdown",
   "metadata": {
    "vscode": {
     "languageId": "raw"
    }
   },
   "source": [
    "    find \\\n",
    "        ./vMAGs/ \\\n",
    "        -wholename *.fasta \\\n",
    "        > ./vMAG_paths.txt"
   ]
  },
  {
   "cell_type": "markdown",
   "metadata": {},
   "source": [
    "### Run dRep"
   ]
  },
  {
   "cell_type": "markdown",
   "metadata": {
    "vscode": {
     "languageId": "raw"
    }
   },
   "source": [
    "    nohup dRep dereplicate \\\n",
    "        -p 90 \\\n",
    "        -g ./vMAG_paths.txt \\\n",
    "        -l 5000 \\\n",
    "        --ignoreGenomeQuality \\\n",
    "        --S_algorithm skani \\\n",
    "        -pa 0.8 -sa 0.95 -nc 0.85 \\\n",
    "        -comW 0 -conW 0 -strW 0 \\\n",
    "        -N50W 0 -sizeW 1 -centW 0 \\\n",
    "        --skip_plots \\\n",
    "        ./dRep_out \\\n",
    "        > dRep.log &"
   ]
  },
  {
   "cell_type": "markdown",
   "metadata": {},
   "source": [
    "Above, I deviate from the default dRep parameters by using <code>-l 5000</code> to set the minimum genome size to 5000, <code>--ignoreGenomeQuality</code> to skip the checkM step since these are viruses, <code>--S_algorithm skani</code> to use the [skani](https://github.com/bluenote-1577/skani) genome comparison algorithm (fast), <code>-pa 0.8</code> to set the primary clustering ANI threshold to 80% (reccomended by dRep to be lower than 90% for non-bacterial/archaeal genomes)  <code>-sa 0.95</code> to set the secondary clustering ani threshold to 95% to resutlt in species clusters at 95% ANI. <code>-nc 0.85</code> to set the minimum aligned coverage threshold to 85%, <code>-comW 0</code> and <code>-conW 0</code> to set the completeness & contamination score weights to 0 (since not running checkM), <code>-strW 0</code> and <code>-N50W 0</code> to set the strain heterogeneity and N50 score weights to 0 since these are relativley small and variable virus genomes, <code>-sizeW 1</code> to consider genome size in the score, and <code>-centW 0</code> tot consider centrality weight. This effectivley makes the scoring part of dRep only consider genome size, and these parameters are what ViWrap also uses in its dereplciation module."
   ]
  },
  {
   "cell_type": "markdown",
   "metadata": {},
   "source": [
    "## Map reads from every sample to dereplicated, species-representative vMAGs\n",
    "Using bowtie2 and [pyapply](https://github.com/cody-mar10/pyapply)."
   ]
  },
  {
   "cell_type": "markdown",
   "metadata": {},
   "source": [
    "Make bowtie2 index of VMAGs"
   ]
  },
  {
   "cell_type": "markdown",
   "metadata": {
    "vscode": {
     "languageId": "raw"
    }
   },
   "source": [
    "    find \\\n",
    "        ./dRep_out/dereplicated_genomes/ \\\n",
    "        -type f \\\n",
    "        -exec cat {} + \\\n",
    "        > ./vMAGs_dereplicated.fasta"
   ]
  },
  {
   "cell_type": "markdown",
   "metadata": {
    "vscode": {
     "languageId": "raw"
    }
   },
   "source": [
    "    nohup bowtie2-build \\\n",
    "        ./vMAGs_dereplicated.fasta \\\n",
    "        ./mapping/to_vMAGs/index/vMAGs_derep \\\n",
    "        --threads 100 &"
   ]
  },
  {
   "cell_type": "code",
   "execution_count": 14,
   "metadata": {
    "vscode": {
     "languageId": "shellscript"
    }
   },
   "outputs": [
    {
     "name": "stdout",
     "output_type": "stream",
     "text": [
      "R1\tR2\tOUT\n",
      "./01_QC/BAr1A-QUALITY_PASSED_R1.fastq.gz\t./01_QC/BAr1A-QUALITY_PASSED_R2.fastq.gz\t./mapping/to_vMAGs/mapfiles/BAr1A.sam\n",
      "./01_QC/BAr1B-QUALITY_PASSED_R1.fastq.gz\t./01_QC/BAr1B-QUALITY_PASSED_R2.fastq.gz\t./mapping/to_vMAGs/mapfiles/BAr1B.sam\n",
      "./01_QC/BAr1C-QUALITY_PASSED_R1.fastq.gz\t./01_QC/BAr1C-QUALITY_PASSED_R2.fastq.gz\t./mapping/to_vMAGs/mapfiles/BAr1C.sam\n",
      "./01_QC/BAr2D-QUALITY_PASSED_R1.fastq.gz\t./01_QC/BAr2D-QUALITY_PASSED_R2.fastq.gz\t./mapping/to_vMAGs/mapfiles/BAr2D.sam\n",
      "./01_QC/BAr2E-QUALITY_PASSED_R1.fastq.gz\t./01_QC/BAr2E-QUALITY_PASSED_R2.fastq.gz\t./mapping/to_vMAGs/mapfiles/BAr2E.sam\n",
      "./01_QC/BAr2F-QUALITY_PASSED_R1.fastq.gz\t./01_QC/BAr2F-QUALITY_PASSED_R2.fastq.gz\t./mapping/to_vMAGs/mapfiles/BAr2F.sam\n",
      "./01_QC/BAr3G-QUALITY_PASSED_R1.fastq.gz\t./01_QC/BAr3G-QUALITY_PASSED_R2.fastq.gz\t./mapping/to_vMAGs/mapfiles/BAr3G.sam\n",
      "./01_QC/BAr3H-QUALITY_PASSED_R1.fastq.gz\t./01_QC/BAr3H-QUALITY_PASSED_R2.fastq.gz\t./mapping/to_vMAGs/mapfiles/BAr3H.sam\n",
      "./01_QC/BAr3I-QUALITY_PASSED_R1.fastq.gz\t./01_QC/BAr3I-QUALITY_PASSED_R2.fastq.gz\t./mapping/to_vMAGs/mapfiles/BAr3I.sam\n",
      "./01_QC/BOr1A-QUALITY_PASSED_R1.fastq.gz\t./01_QC/BOr1A-QUALITY_PASSED_R2.fastq.gz\t./mapping/to_vMAGs/mapfiles/BOr1A.sam\n",
      "./01_QC/BOr1B-QUALITY_PASSED_R1.fastq.gz\t./01_QC/BOr1B-QUALITY_PASSED_R2.fastq.gz\t./mapping/to_vMAGs/mapfiles/BOr1B.sam\n",
      "./01_QC/BOr1C-QUALITY_PASSED_R1.fastq.gz\t./01_QC/BOr1C-QUALITY_PASSED_R2.fastq.gz\t./mapping/to_vMAGs/mapfiles/BOr1C.sam\n",
      "./01_QC/BOr2D-QUALITY_PASSED_R1.fastq.gz\t./01_QC/BOr2D-QUALITY_PASSED_R2.fastq.gz\t./mapping/to_vMAGs/mapfiles/BOr2D.sam\n",
      "./01_QC/BOr2E-QUALITY_PASSED_R1.fastq.gz\t./01_QC/BOr2E-QUALITY_PASSED_R2.fastq.gz\t./mapping/to_vMAGs/mapfiles/BOr2E.sam\n",
      "./01_QC/BOr2F-QUALITY_PASSED_R1.fastq.gz\t./01_QC/BOr2F-QUALITY_PASSED_R2.fastq.gz\t./mapping/to_vMAGs/mapfiles/BOr2F.sam\n",
      "./01_QC/BOr3G-QUALITY_PASSED_R1.fastq.gz\t./01_QC/BOr3G-QUALITY_PASSED_R2.fastq.gz\t./mapping/to_vMAGs/mapfiles/BOr3G.sam\n",
      "./01_QC/BOr3H-QUALITY_PASSED_R1.fastq.gz\t./01_QC/BOr3H-QUALITY_PASSED_R2.fastq.gz\t./mapping/to_vMAGs/mapfiles/BOr3H.sam\n",
      "./01_QC/BOr3I-QUALITY_PASSED_R1.fastq.gz\t./01_QC/BOr3I-QUALITY_PASSED_R2.fastq.gz\t./mapping/to_vMAGs/mapfiles/BOr3I.sam\n",
      "./01_QC/CRr1A-QUALITY_PASSED_R1.fastq.gz\t./01_QC/CRr1A-QUALITY_PASSED_R2.fastq.gz\t./mapping/to_vMAGs/mapfiles/CRr1A.sam\n",
      "./01_QC/CRr1B-QUALITY_PASSED_R1.fastq.gz\t./01_QC/CRr1B-QUALITY_PASSED_R2.fastq.gz\t./mapping/to_vMAGs/mapfiles/CRr1B.sam\n",
      "./01_QC/CRr1C-QUALITY_PASSED_R1.fastq.gz\t./01_QC/CRr1C-QUALITY_PASSED_R2.fastq.gz\t./mapping/to_vMAGs/mapfiles/CRr1C.sam\n",
      "./01_QC/CRr2D-QUALITY_PASSED_R1.fastq.gz\t./01_QC/CRr2D-QUALITY_PASSED_R2.fastq.gz\t./mapping/to_vMAGs/mapfiles/CRr2D.sam\n",
      "./01_QC/CRr2E-QUALITY_PASSED_R1.fastq.gz\t./01_QC/CRr2E-QUALITY_PASSED_R2.fastq.gz\t./mapping/to_vMAGs/mapfiles/CRr2E.sam\n",
      "./01_QC/CRr2F-QUALITY_PASSED_R1.fastq.gz\t./01_QC/CRr2F-QUALITY_PASSED_R2.fastq.gz\t./mapping/to_vMAGs/mapfiles/CRr2F.sam\n",
      "./01_QC/CRr3G-QUALITY_PASSED_R1.fastq.gz\t./01_QC/CRr3G-QUALITY_PASSED_R2.fastq.gz\t./mapping/to_vMAGs/mapfiles/CRr3G.sam\n",
      "./01_QC/CRr3H-QUALITY_PASSED_R1.fastq.gz\t./01_QC/CRr3H-QUALITY_PASSED_R2.fastq.gz\t./mapping/to_vMAGs/mapfiles/CRr3H.sam\n",
      "./01_QC/CRr3I-QUALITY_PASSED_R1.fastq.gz\t./01_QC/CRr3I-QUALITY_PASSED_R2.fastq.gz\t./mapping/to_vMAGs/mapfiles/CRr3I.sam\n",
      "./01_QC/LABRr1A-QUALITY_PASSED_R1.fastq.gz\t./01_QC/LABRr1A-QUALITY_PASSED_R2.fastq.gz\t./mapping/to_vMAGs/mapfiles/LABRr1A.sam\n",
      "./01_QC/LABRr1B-QUALITY_PASSED_R1.fastq.gz\t./01_QC/LABRr1B-QUALITY_PASSED_R2.fastq.gz\t./mapping/to_vMAGs/mapfiles/LABRr1B.sam\n",
      "./01_QC/LABRr1C-QUALITY_PASSED_R1.fastq.gz\t./01_QC/LABRr1C-QUALITY_PASSED_R2.fastq.gz\t./mapping/to_vMAGs/mapfiles/LABRr1C.sam\n",
      "./01_QC/LASAr3G-QUALITY_PASSED_R1.fastq.gz\t./01_QC/LASAr3G-QUALITY_PASSED_R2.fastq.gz\t./mapping/to_vMAGs/mapfiles/LASAr3G.sam\n",
      "./01_QC/LASAr3H-QUALITY_PASSED_R1.fastq.gz\t./01_QC/LASAr3H-QUALITY_PASSED_R2.fastq.gz\t./mapping/to_vMAGs/mapfiles/LASAr3H.sam\n",
      "./01_QC/LASAr3I-QUALITY_PASSED_R1.fastq.gz\t./01_QC/LASAr3I-QUALITY_PASSED_R2.fastq.gz\t./mapping/to_vMAGs/mapfiles/LASAr3I.sam\n",
      "./01_QC/LASCr2D-QUALITY_PASSED_R1.fastq.gz\t./01_QC/LASCr2D-QUALITY_PASSED_R2.fastq.gz\t./mapping/to_vMAGs/mapfiles/LASCr2D.sam\n",
      "./01_QC/LASCr2E-QUALITY_PASSED_R1.fastq.gz\t./01_QC/LASCr2E-QUALITY_PASSED_R2.fastq.gz\t./mapping/to_vMAGs/mapfiles/LASCr2E.sam\n",
      "./01_QC/LASCr2F-QUALITY_PASSED_R1.fastq.gz\t./01_QC/LASCr2F-QUALITY_PASSED_R2.fastq.gz\t./mapping/to_vMAGs/mapfiles/LASCr2F.sam\n",
      "./01_QC/LASYr2D-QUALITY_PASSED_R1.fastq.gz\t./01_QC/LASYr2D-QUALITY_PASSED_R2.fastq.gz\t./mapping/to_vMAGs/mapfiles/LASYr2D.sam\n",
      "./01_QC/LASYr2E-QUALITY_PASSED_R1.fastq.gz\t./01_QC/LASYr2E-QUALITY_PASSED_R2.fastq.gz\t./mapping/to_vMAGs/mapfiles/LASYr2E.sam\n",
      "./01_QC/LASYr2F-QUALITY_PASSED_R1.fastq.gz\t./01_QC/LASYr2F-QUALITY_PASSED_R2.fastq.gz\t./mapping/to_vMAGs/mapfiles/LASYr2F.sam\n",
      "./01_QC/LAWAr2D-QUALITY_PASSED_R1.fastq.gz\t./01_QC/LAWAr2D-QUALITY_PASSED_R2.fastq.gz\t./mapping/to_vMAGs/mapfiles/LAWAr2D.sam\n",
      "./01_QC/LAWAr2E-QUALITY_PASSED_R1.fastq.gz\t./01_QC/LAWAr2E-QUALITY_PASSED_R2.fastq.gz\t./mapping/to_vMAGs/mapfiles/LAWAr2E.sam\n",
      "./01_QC/LAWAr2F-QUALITY_PASSED_R1.fastq.gz\t./01_QC/LAWAr2F-QUALITY_PASSED_R2.fastq.gz\t./mapping/to_vMAGs/mapfiles/LAWAr2F.sam\n",
      "./01_QC/MGr1A-QUALITY_PASSED_R1.fastq.gz\t./01_QC/MGr1A-QUALITY_PASSED_R2.fastq.gz\t./mapping/to_vMAGs/mapfiles/MGr1A.sam\n",
      "./01_QC/MGr1B-QUALITY_PASSED_R1.fastq.gz\t./01_QC/MGr1B-QUALITY_PASSED_R2.fastq.gz\t./mapping/to_vMAGs/mapfiles/MGr1B.sam\n",
      "./01_QC/MGr1C-QUALITY_PASSED_R1.fastq.gz\t./01_QC/MGr1C-QUALITY_PASSED_R2.fastq.gz\t./mapping/to_vMAGs/mapfiles/MGr1C.sam\n",
      "./01_QC/MGr2D-QUALITY_PASSED_R1.fastq.gz\t./01_QC/MGr2D-QUALITY_PASSED_R2.fastq.gz\t./mapping/to_vMAGs/mapfiles/MGr2D.sam\n",
      "./01_QC/MGr2E-QUALITY_PASSED_R1.fastq.gz\t./01_QC/MGr2E-QUALITY_PASSED_R2.fastq.gz\t./mapping/to_vMAGs/mapfiles/MGr2E.sam\n",
      "./01_QC/MGr2F-QUALITY_PASSED_R1.fastq.gz\t./01_QC/MGr2F-QUALITY_PASSED_R2.fastq.gz\t./mapping/to_vMAGs/mapfiles/MGr2F.sam\n",
      "./01_QC/MGr3G-QUALITY_PASSED_R1.fastq.gz\t./01_QC/MGr3G-QUALITY_PASSED_R2.fastq.gz\t./mapping/to_vMAGs/mapfiles/MGr3G.sam\n",
      "./01_QC/MGr3H-QUALITY_PASSED_R1.fastq.gz\t./01_QC/MGr3H-QUALITY_PASSED_R2.fastq.gz\t./mapping/to_vMAGs/mapfiles/MGr3H.sam\n",
      "./01_QC/MGr3I-QUALITY_PASSED_R1.fastq.gz\t./01_QC/MGr3I-QUALITY_PASSED_R2.fastq.gz\t./mapping/to_vMAGs/mapfiles/MGr3I.sam\n",
      "./01_QC/MHr1A-QUALITY_PASSED_R1.fastq.gz\t./01_QC/MHr1A-QUALITY_PASSED_R2.fastq.gz\t./mapping/to_vMAGs/mapfiles/MHr1A.sam\n",
      "./01_QC/MHr1B-QUALITY_PASSED_R1.fastq.gz\t./01_QC/MHr1B-QUALITY_PASSED_R2.fastq.gz\t./mapping/to_vMAGs/mapfiles/MHr1B.sam\n",
      "./01_QC/MHr1C-QUALITY_PASSED_R1.fastq.gz\t./01_QC/MHr1C-QUALITY_PASSED_R2.fastq.gz\t./mapping/to_vMAGs/mapfiles/MHr1C.sam\n",
      "./01_QC/MHr2D-QUALITY_PASSED_R1.fastq.gz\t./01_QC/MHr2D-QUALITY_PASSED_R2.fastq.gz\t./mapping/to_vMAGs/mapfiles/MHr2D.sam\n",
      "./01_QC/MHr2E-QUALITY_PASSED_R1.fastq.gz\t./01_QC/MHr2E-QUALITY_PASSED_R2.fastq.gz\t./mapping/to_vMAGs/mapfiles/MHr2E.sam\n",
      "./01_QC/MHr2F-QUALITY_PASSED_R1.fastq.gz\t./01_QC/MHr2F-QUALITY_PASSED_R2.fastq.gz\t./mapping/to_vMAGs/mapfiles/MHr2F.sam\n",
      "./01_QC/MHr3G-QUALITY_PASSED_R1.fastq.gz\t./01_QC/MHr3G-QUALITY_PASSED_R2.fastq.gz\t./mapping/to_vMAGs/mapfiles/MHr3G.sam\n",
      "./01_QC/MHr3H-QUALITY_PASSED_R1.fastq.gz\t./01_QC/MHr3H-QUALITY_PASSED_R2.fastq.gz\t./mapping/to_vMAGs/mapfiles/MHr3H.sam\n",
      "./01_QC/MHr3I-QUALITY_PASSED_R1.fastq.gz\t./01_QC/MHr3I-QUALITY_PASSED_R2.fastq.gz\t./mapping/to_vMAGs/mapfiles/MHr3I.sam\n",
      "./01_QC/SEr2D-QUALITY_PASSED_R1.fastq.gz\t./01_QC/SEr2D-QUALITY_PASSED_R2.fastq.gz\t./mapping/to_vMAGs/mapfiles/SEr2D.sam\n",
      "./01_QC/SEr2E-QUALITY_PASSED_R1.fastq.gz\t./01_QC/SEr2E-QUALITY_PASSED_R2.fastq.gz\t./mapping/to_vMAGs/mapfiles/SEr2E.sam\n",
      "./01_QC/SEr2F-QUALITY_PASSED_R1.fastq.gz\t./01_QC/SEr2F-QUALITY_PASSED_R2.fastq.gz\t./mapping/to_vMAGs/mapfiles/SEr2F.sam\n",
      "./01_QC/SEr3G-QUALITY_PASSED_R1.fastq.gz\t./01_QC/SEr3G-QUALITY_PASSED_R2.fastq.gz\t./mapping/to_vMAGs/mapfiles/SEr3G.sam\n",
      "./01_QC/SEr3H-QUALITY_PASSED_R1.fastq.gz\t./01_QC/SEr3H-QUALITY_PASSED_R2.fastq.gz\t./mapping/to_vMAGs/mapfiles/SEr3H.sam\n",
      "./01_QC/SEr3I-QUALITY_PASSED_R1.fastq.gz\t./01_QC/SEr3I-QUALITY_PASSED_R2.fastq.gz\t./mapping/to_vMAGs/mapfiles/SEr3I.sam"
     ]
    }
   ],
   "source": [
    "! cat ./Scripts/bowtie2_vmags_pyapply_config.tsv"
   ]
  },
  {
   "cell_type": "markdown",
   "metadata": {
    "vscode": {
     "languageId": "raw"
    }
   },
   "source": [
    "    nohup pyapply \\\n",
    "        ./Scripts/23_bowtie2_vmags_pyapply_config.tsv \\\n",
    "            bowtie2 \\\n",
    "                --end-to-end \\\n",
    "                --sensitive \\\n",
    "                -p 64 \\\n",
    "                -x ./mapping/to_vMAGs/index/vMAGs_derep \\\n",
    "                -1{R1} \\\n",
    "                -2{R2} \\\n",
    "                -S{OUT} \\\n",
    "        > bowtie2_map_vmags.nohup.out & "
   ]
  },
  {
   "cell_type": "markdown",
   "metadata": {},
   "source": [
    "### Convert sam to sorted bam\n",
    "Using samtools v1.17"
   ]
  },
  {
   "cell_type": "markdown",
   "metadata": {
    "vscode": {
     "languageId": "raw"
    }
   },
   "source": [
    "    nohup ls *.sam | parallel --jobs 66 \\\n",
    "        'samtools view -bS {} | \\\n",
    "         samtools sort -o ./mapping/to_vMAGs/mapfiles/{.}.bam -' &"
   ]
  },
  {
   "cell_type": "markdown",
   "metadata": {},
   "source": [
    "### Index sorted bam files"
   ]
  },
  {
   "cell_type": "markdown",
   "metadata": {
    "vscode": {
     "languageId": "raw"
    }
   },
   "source": [
    "    nohup ls *.bam | parallel --jobs 66 \\\n",
    "        'samtools index {}' & # Execute in mapfile dir for each environment"
   ]
  },
  {
   "cell_type": "markdown",
   "metadata": {},
   "source": [
    "## Filter reads mapping >= 90% identity with CoverM\n",
    "Using [CoverM](https://github.com/wwood/CoverM) v0.6.1"
   ]
  },
  {
   "cell_type": "markdown",
   "metadata": {
    "vscode": {
     "languageId": "raw"
    }
   },
   "source": [
    "    for BAM in *.bam; \\\n",
    "        do NAME=${BAM%.*}; \\\n",
    "        coverm filter \\\n",
    "            -b $BAM \\\n",
    "            -o $NAME.filtered.bam \\\n",
    "            --min-read-percent-identity 90 \\\n",
    "            --threads 10; \\\n",
    "    done # Execute in mapfile dir for each environment"
   ]
  },
  {
   "cell_type": "markdown",
   "metadata": {},
   "source": [
    "And index the filtered files, too"
   ]
  },
  {
   "cell_type": "markdown",
   "metadata": {
    "vscode": {
     "languageId": "raw"
    }
   },
   "source": [
    "    nohup ls *.filtered.bam | parallel --jobs 66 'samtools index {}' & # Execute in mapfile dir for each environment"
   ]
  },
  {
   "cell_type": "markdown",
   "metadata": {},
   "source": [
    "## Generate mean genome coverage tables with CoverM"
   ]
  },
  {
   "cell_type": "markdown",
   "metadata": {
    "vscode": {
     "languageId": "raw"
    }
   },
   "source": [
    "    coverm genome \\\n",
    "        -b *.filtered.bam \\\n",
    "        -d ./dRep_out/dereplicated_genomes \\\n",
    "        -x fasta \\\n",
    "        -m mean \\\n",
    "        --min-covered-fraction 0 \\\n",
    "        -o ./mapping/to_vMAGs/mapfiles/all_samples.mean.cov \\\n",
    "        -t 10"
   ]
  },
  {
   "cell_type": "markdown",
   "metadata": {},
   "source": [
    "## Generate trimmed mean (plus/minus top/bottom 5% of bases) coverage tables with CoverM"
   ]
  },
  {
   "cell_type": "markdown",
   "metadata": {
    "vscode": {
     "languageId": "raw"
    }
   },
   "source": [
    "    coverm genome \\\n",
    "        -b *.filtered.bam \\\n",
    "        -d ./dRep_out/dereplicated_genomes \\\n",
    "        -x fasta \\\n",
    "        -m trimmed_mean \\\n",
    "        --min-covered-fraction 0 \\\n",
    "        -o ./mapping/to_vMAGs/mapfiles/all_samples.trimmed_mean.cov \\\n",
    "        -t 10"
   ]
  },
  {
   "cell_type": "markdown",
   "metadata": {},
   "source": [
    "## Generate absolute mapped read count tables with CoverM\n",
    "Using CoverM v0.6.1"
   ]
  },
  {
   "cell_type": "markdown",
   "metadata": {
    "vscode": {
     "languageId": "raw"
    }
   },
   "source": [
    "    coverm genome \\\n",
    "        -b *.filtered.bam \\\n",
    "        -d ./dRep_out/dereplicated_genomes \\\n",
    "        -x fasta \\\n",
    "        -m count \\\n",
    "        --min-covered-fraction 0 \\\n",
    "        -o ./mapping/to_vMAGs/mapfiles/all_samples.counts.cov \\\n",
    "        -t 10"
   ]
  },
  {
   "cell_type": "markdown",
   "metadata": {},
   "source": [
    "## Generate covered fraction tables with CoverM\n",
    "Using CoverM v0.6.1. Covered fraction = breadth = % of bases in genome covered by at least 1 mapped read"
   ]
  },
  {
   "cell_type": "markdown",
   "metadata": {
    "vscode": {
     "languageId": "raw"
    }
   },
   "source": [
    "    coverm genome \\\n",
    "        -b *.filtered.bam \\\n",
    "        -d ./dRep_out/dereplicated_genomes \\\n",
    "        -x fasta \\\n",
    "        -m covered_fraction \\\n",
    "        --min-covered-fraction 0 \\\n",
    "        -o ./mapping/to_vMAGs/mapfiles/all_samples.covered_fraction.cov \\\n",
    "        -t 30"
   ]
  },
  {
   "cell_type": "markdown",
   "metadata": {},
   "source": [
    "## Make a 'sccafold-to-bin' file for vMAGs\n",
    "Using dRep v3.5.0 auxiliary script `parse_stb.py` (comes with dRep installation)"
   ]
  },
  {
   "cell_type": "markdown",
   "metadata": {
    "vscode": {
     "languageId": "raw"
    }
   },
   "source": [
    "    parse_stb.py \\\n",
    "        --reverse \\\n",
    "        -f ./dRep_out/dereplicated_genomes/*.fasta \\\n",
    "        -o contig_to_vmags.tsv"
   ]
  },
  {
   "cell_type": "markdown",
   "metadata": {},
   "source": [
    "Remove instances of \".fasta\""
   ]
  },
  {
   "cell_type": "markdown",
   "metadata": {
    "vscode": {
     "languageId": "raw"
    }
   },
   "source": [
    "    sed -i 's/\\.fasta//g' contig_to_vmags.tsv"
   ]
  },
  {
   "cell_type": "markdown",
   "metadata": {},
   "source": [
    "## Get sequencing depth (number of reads in filtered read files)"
   ]
  },
  {
   "cell_type": "code",
   "execution_count": 15,
   "metadata": {
    "vscode": {
     "languageId": "shellscript"
    }
   },
   "outputs": [
    {
     "name": "stdout",
     "output_type": "stream",
     "text": [
      "#!/bin/bash\n",
      "\n",
      "# Directory containing the fastq.gz files\n",
      "input_dir=\"./01_QC\"\n",
      "\n",
      "# Output CSV file\n",
      "output_file=\"seq_depth.csv\"\n",
      "\n",
      "# Header for the CSV file\n",
      "echo \"Sample,Pair,File,Number.of.Reads,Hundred.Millions.Reads\" > $output_file\n",
      "\n",
      "# Loop through each fastq.gz file in the directory\n",
      "for file in \"$input_dir\"/*_R1.fastq.gz; do\n",
      "  # Extract filename without directory\n",
      "  filename=$(basename \"$file\")\n",
      "  \n",
      "  # Extract Sample and Pair components\n",
      "  sample=$(echo \"$filename\" | cut -d'-' -f1)\n",
      "  pair=$(echo \"$filename\" | grep -oP '_R\\d+' | cut -d'_' -f2)\n",
      "  \n",
      "  # Count the number of reads (assuming one read per line in the file)\n",
      "  num_reads=$(zcat \"$file\" | echo $((`wc -l`/4)))\n",
      "  \n",
      "  # Calculate Hundred.Millions.Reads\n",
      "  hundred_millions_reads=$(echo \"scale=8; $num_reads / 100000000\" | bc)\n",
      "  \n",
      "  # Append the results to the output file\n",
      "  echo \"$sample,$pair,$filename,$num_reads,$hundred_millions_reads\" >> $output_file\n",
      "done\n"
     ]
    }
   ],
   "source": [
    "! cat ./Scripts/get_seqdepth.sh"
   ]
  },
  {
   "cell_type": "markdown",
   "metadata": {},
   "source": [
    "## 'N-link' vMAGs\n",
    "Using a vRhyme auxiliary script `link_bin_sequences.py` (comes with vRhyme installation)"
   ]
  },
  {
   "cell_type": "markdown",
   "metadata": {
    "vscode": {
     "languageId": "raw"
    }
   },
   "source": [
    "    link_bin_sequences.py \\\n",
    "        -i ./vMAGs_fasta/ \\\n",
    "        -o ./vMAGs_linked"
   ]
  },
  {
   "cell_type": "markdown",
   "metadata": {
    "vscode": {
     "languageId": "raw"
    }
   },
   "source": [
    "    link_bin_sequences.py \\\n",
    "        -i ./dRep_out/dereplicated_genomes/ \\\n",
    "        -o ./vMAGs_dereplicated_linked"
   ]
  },
  {
   "cell_type": "markdown",
   "metadata": {},
   "source": [
    "## Cluster vMAGs based on amino-acid identity\n",
    "Cluster vMAGs at (roughly) the genus level with the [Global Soil Virus Atlas](https://doi.org/10.1038/s41564-024-01686-x) (616,935 viral genomes, 38,508 vOTUs), [Global Soil Virome](https://www.nature.com/articles/s41559-024-02347-2) (80,751 viral genomes), and PIGEON (soil viruses only) (30,033 viral genomes)."
   ]
  },
  {
   "cell_type": "markdown",
   "metadata": {
    "vscode": {
     "languageId": "raw"
    }
   },
   "source": [
    "    cat PIGEONv1.0_renamed_soil_only.fa \\\n",
    "        GSV_viralsequences.fasta \\\n",
    "        GSVA_all_soil_viruses_1.fna \\\n",
    "        > ./genome_clustering/combined_soil_virus_db.fna"
   ]
  },
  {
   "cell_type": "markdown",
   "metadata": {},
   "source": [
    "### Need to get amino-acids sequences of the viruses to cluster them\n",
    "Use pyrodigal-gv"
   ]
  },
  {
   "cell_type": "markdown",
   "metadata": {
    "vscode": {
     "languageId": "raw"
    }
   },
   "source": [
    "    run_pyrodigal-gv.py \\\n",
    "        -f ./genome_clustering/combined_soil_virus_db.fna \\\n",
    "        -o ./genome_clustering/ \\\n",
    "        -n 100"
   ]
  },
  {
   "cell_type": "markdown",
   "metadata": {},
   "source": [
    "### Run the custom clustering scripts with snakemake\n",
    "**NOTE:** Here I am ensuring that the following parameters are used to form genus-level clusters:\n",
    "\n",
    "- <code>min_genes = 0</code>\n",
    "- <code>min_shared = 0.20</code>\n",
    "- <code>min_aai = 0.40</code>\n",
    "- <code>inflation = 2.0</code>\n",
    "\n",
    "These are based off of [Nayfach et al. (2021) Nat. Microbiol.](https://doi.org/10.1038/s41564-021-00928-6).\n",
    "\n",
    "It is also worth noting that genome clustering is performed here based off of pairwise amino-acid identities, clustering with mmseq2 with a minimum protein aligned fraction of 50%."
   ]
  },
  {
   "cell_type": "markdown",
   "metadata": {
    "vscode": {
     "languageId": "raw"
    }
   },
   "source": [
    "    snakemake \\\n",
    "        --snakefile genome_clustering/genome_clustering.smk \\\n",
    "        --nolock \\\n",
    "        --configfile genome_clustering/genome_clustering_config.yaml \\\n",
    "        --directory genome_clustering/genus_level_clustering_GSV_GSVA_PIGEON \\\n",
    "        --cores 90 \\\n",
    "        --rerun-triggers input \\\n",
    "        --keep-incomplete"
   ]
  },
  {
   "cell_type": "markdown",
   "metadata": {},
   "source": [
    "## Dereplicate MAGs with dRep v3.5.0"
   ]
  },
  {
   "cell_type": "markdown",
   "metadata": {
    "vscode": {
     "languageId": "raw"
    }
   },
   "source": [
    "    find \\\n",
    "        ./sorted_mags/high_medium_quality \\\n",
    "        -wholename *.fa \\\n",
    "        > ./MAG_high_medium_quality_paths.txt"
   ]
  },
  {
   "cell_type": "markdown",
   "metadata": {
    "vscode": {
     "languageId": "raw"
    }
   },
   "source": [
    "    nohup dRep dereplicate \\\n",
    "        -p 32 \\\n",
    "        -g ./MAG_high_medium_quality_paths.txt \\\n",
    "        --ignoreGenomeQuality \\\n",
    "        --S_algorithm skani \\\n",
    "        --skip_plots \\\n",
    "        ./dRep_MAGs_out \\\n",
    "        > dRep_MAGs.log &"
   ]
  },
  {
   "cell_type": "markdown",
   "metadata": {},
   "source": [
    "Above, I deviate from the default dRep parameters by using <code>--ignoreGenomeQuality</code> to skip the checkM step since CheckM was already run and we are only dereplicating the high and medium qulaity MAGs (they will have a minnimum genome comlpeteness of 50% and a maximum contamination of 10%, dRep default is minimum 75% completeness and maxinimum 25% contamination and reccomends using at least a 50% minimum completeness), <code>--S_algorithm skani</code> to use the [skani](https://github.com/bluenote-1577/skani) genome comparison algorithm (fast). The remaining parameters will be the dRep defaults."
   ]
  },
  {
   "cell_type": "markdown",
   "metadata": {},
   "source": [
    "## Map reads from every sample to dereplicated, species-representative MAGs\n",
    "Using bowtie2 and pyapply"
   ]
  },
  {
   "cell_type": "markdown",
   "metadata": {
    "vscode": {
     "languageId": "raw"
    }
   },
   "source": [
    "    find \\\n",
    "        ./dRep_MAGs_out/dereplicated_genomes/ \\\n",
    "        -type f \\\n",
    "        -exec cat {} + \\\n",
    "        > ./MAGs_dereplicated.fasta"
   ]
  },
  {
   "cell_type": "markdown",
   "metadata": {
    "vscode": {
     "languageId": "raw"
    }
   },
   "source": [
    "    nohup bowtie2-build \\\n",
    "        ./MAGs_dereplicated.fasta \\\n",
    "        ./mapping/to_MAGs/index/MAGs_derep \\\n",
    "        --threads 100 &"
   ]
  },
  {
   "cell_type": "markdown",
   "metadata": {
    "vscode": {
     "languageId": "raw"
    }
   },
   "source": [
    "    nohup pyapply \\\n",
    "        ./Scripts/bowtie2_mags_pyapply_config.tsv \\\n",
    "            bowtie2 \\\n",
    "            --end-to-end \\\n",
    "            --sensitive \\\n",
    "            -p 32 \\\n",
    "            -x ./mapping/to_MAGs/index/MAGs_derep \\\n",
    "            -1{R1} \\\n",
    "            -2{R2} \\\n",
    "            -S{OUT} \\\n",
    "        > bowtie2_map_mags.nohup.out & "
   ]
  },
  {
   "cell_type": "markdown",
   "metadata": {},
   "source": [
    "### Convert sam to sorted bam\n",
    "Using samtools v1.17"
   ]
  },
  {
   "cell_type": "markdown",
   "metadata": {
    "vscode": {
     "languageId": "raw"
    }
   },
   "source": [
    "    nohup ls *.sam | parallel --jobs 66 \\\n",
    "        'samtools view -bS {} | \\\n",
    "        samtools sort -o ./mapping/to_MAGs/mapfiles/{.}.bam -' &"
   ]
  },
  {
   "cell_type": "markdown",
   "metadata": {},
   "source": [
    "### Index sorted bam files"
   ]
  },
  {
   "cell_type": "markdown",
   "metadata": {},
   "source": [
    "    nohup ls *.bam | parallel --jobs 66 \\\n",
    "        'samtools index {}' & # Execute in mapfile dir for each environment"
   ]
  },
  {
   "cell_type": "markdown",
   "metadata": {},
   "source": [
    "## Filter reads mapping >= 90% identity with CoverM\n",
    "Using [CoverM](https://github.com/wwood/CoverM) v0.6.1"
   ]
  },
  {
   "cell_type": "markdown",
   "metadata": {},
   "source": [
    "    for BAM in *.bam; do \\\n",
    "        NAME=${BAM%.*}; \\\n",
    "        coverm filter \\\n",
    "            -b $BAM \\\n",
    "            -o $NAME.filtered.bam \\\n",
    "            --min-read-percent-identity 90 \\\n",
    "            --threads 30; \\\n",
    "    done # Execute in mapfile dir for each environment"
   ]
  },
  {
   "cell_type": "markdown",
   "metadata": {},
   "source": [
    "And index the filtered files, too"
   ]
  },
  {
   "cell_type": "markdown",
   "metadata": {
    "vscode": {
     "languageId": "raw"
    }
   },
   "source": [
    "    nohup ls *.filtered.bam | parallel --jobs 66 \\\n",
    "        'samtools index {}' & # Execute in mapfile dir for each environment"
   ]
  },
  {
   "cell_type": "markdown",
   "metadata": {},
   "source": [
    "## Generate mean genome coverage tables with CoverM"
   ]
  },
  {
   "cell_type": "markdown",
   "metadata": {
    "vscode": {
     "languageId": "raw"
    }
   },
   "source": [
    "    coverm genome \\\n",
    "        -b *.filtered.bam \\\n",
    "        -d ./dRep_MAGs_out/dereplicated_genomes \\\n",
    "        -x fa \\\n",
    "        -m mean \\\n",
    "        --min-covered-fraction 0 \\\n",
    "        -o ./mapping/to_MAGs/mapfiles/all_samples.mean.cov \\\n",
    "        -t 30"
   ]
  },
  {
   "cell_type": "markdown",
   "metadata": {},
   "source": [
    "## Generate trimmed mean (plus/minus top/bottom 5% of bases) coverage tables with CoverM"
   ]
  },
  {
   "cell_type": "markdown",
   "metadata": {
    "vscode": {
     "languageId": "raw"
    }
   },
   "source": [
    "    coverm genome \\\n",
    "        -b *.filtered.bam \\\n",
    "        -d ./dRep_MAGs_out/dereplicated_genomes \\\n",
    "        -x fa \\\n",
    "        -m trimmed_mean \\\n",
    "        --min-covered-fraction 0 \\\n",
    "        -o ./mapping/to_MAGs/mapfiles/all_samples.trimmed_mean.cov \\\n",
    "        -t 30"
   ]
  },
  {
   "cell_type": "markdown",
   "metadata": {},
   "source": [
    "## Generate absolute mapped read count tables with CoverM\n",
    "Using CoverM v0.6.1"
   ]
  },
  {
   "cell_type": "markdown",
   "metadata": {
    "vscode": {
     "languageId": "raw"
    }
   },
   "source": [
    "    coverm genome \\\n",
    "        -b *.filtered.bam \\\n",
    "        -d ./dRep_MAGs_out/dereplicated_genomes \\\n",
    "        -x fa \\\n",
    "        -m count \\\n",
    "        --min-covered-fraction 0 \\\n",
    "        -o ./mapping/to_MAGs/mapfiles/all_samples.counts.cov \\\n",
    "        -t 30"
   ]
  },
  {
   "cell_type": "markdown",
   "metadata": {},
   "source": [
    "## Generate covered fraction tables with CoverM\n",
    "Using CoverM v0.6.1. Covered fraction = breadth = % of bases in genome covered by at least 1 mapped read"
   ]
  },
  {
   "cell_type": "markdown",
   "metadata": {
    "vscode": {
     "languageId": "raw"
    }
   },
   "source": [
    "    coverm genome \\\n",
    "        -b *.filtered.bam \\\n",
    "        -d ./dRep_MAGs_out/dereplicated_genomes \\\n",
    "        -x fa \\\n",
    "        -m covered_fraction \\\n",
    "        --min-covered-fraction 0 \\\n",
    "        -o ./mapping/to_MAGs/mapfiles/all_samples.covered_fraction.cov \\\n",
    "        -t 30"
   ]
  },
  {
   "cell_type": "markdown",
   "metadata": {},
   "source": [
    "## Make a 'scaffold-to-bin' file for host MAGs\n",
    "Using the same auxiliary script from dRep as used for the vMAGs, above."
   ]
  },
  {
   "cell_type": "markdown",
   "metadata": {
    "vscode": {
     "languageId": "raw"
    }
   },
   "source": [
    "    parse_stb.py \\\n",
    "        --reverse \\\n",
    "        -f ./dRep_MAGs_out/dereplicated_genomes/*.fa \\\n",
    "        -o ./host_contig_to_mags.tsv"
   ]
  },
  {
   "cell_type": "markdown",
   "metadata": {},
   "source": [
    "Remove instances of \".fa\""
   ]
  },
  {
   "cell_type": "markdown",
   "metadata": {
    "vscode": {
     "languageId": "raw"
    }
   },
   "source": [
    "    sed -i 's/\\.fa//g' host_contig_to_mags.tsv"
   ]
  },
  {
   "cell_type": "markdown",
   "metadata": {},
   "source": [
    "## Run METABOLIC-C on host MAGs"
   ]
  },
  {
   "cell_type": "markdown",
   "metadata": {},
   "source": [
    "Using filtered, total metagenomic reads"
   ]
  },
  {
   "cell_type": "code",
   "execution_count": 17,
   "metadata": {
    "vscode": {
     "languageId": "shellscript"
    }
   },
   "outputs": [
    {
     "name": "stdout",
     "output_type": "stream",
     "text": [
      "./01_QC_UNZIPPED/BAr1A_R1.fastq,./01_QC_UNZIPPED/BAr1A_R2.fastq\n",
      "./01_QC_UNZIPPED/BAr1B_R1.fastq,./01_QC_UNZIPPED/BAr1B_R2.fastq\n",
      "./01_QC_UNZIPPED/BAr1C_R1.fastq,./01_QC_UNZIPPED/BAr1C_R2.fastq\n",
      "./01_QC_UNZIPPED/BAr2D_R1.fastq,./01_QC_UNZIPPED/BAr2D_R2.fastq\n",
      "./01_QC_UNZIPPED/BAr2E_R1.fastq,./01_QC_UNZIPPED/BAr2E_R2.fastq\n",
      "./01_QC_UNZIPPED/BAr2F_R1.fastq,./01_QC_UNZIPPED/BAr2F_R2.fastq\n",
      "./01_QC_UNZIPPED/BAr3G_R1.fastq,./01_QC_UNZIPPED/BAr3G_R2.fastq\n",
      "./01_QC_UNZIPPED/BAr3H_R1.fastq,./01_QC_UNZIPPED/BAr3H_R2.fastq\n",
      "./01_QC_UNZIPPED/BAr3I_R1.fastq,./01_QC_UNZIPPED/BAr3I_R2.fastq\n",
      "./01_QC_UNZIPPED/BOr1A_R1.fastq,./01_QC_UNZIPPED/BOr1A_R2.fastq\n"
     ]
    }
   ],
   "source": [
    "! head ./Scripts/metabolic_read_paths.txt"
   ]
  },
  {
   "cell_type": "markdown",
   "metadata": {},
   "source": [
    "Copy the input MAGs and change extensions to .fasta"
   ]
  },
  {
   "cell_type": "markdown",
   "metadata": {
    "vscode": {
     "languageId": "raw"
    }
   },
   "source": [
    "    mkdir -p ./METABOLIC/input_MAG_fastas && \\\n",
    "    find ./sorted_mags/high_medium_quality \\\n",
    "        -name \"*.fa\" \\\n",
    "    -exec sh -c 'cp \"$0\" \"./METABOLIC/input_MAG_fastas/$(basename \"$0\" .fa).fasta\"' {} \\;"
   ]
  },
  {
   "cell_type": "markdown",
   "metadata": {
    "vscode": {
     "languageId": "raw"
    }
   },
   "source": [
    "    nohup perl METABOLIC-C.pl \\\n",
    "        -t 32 \\\n",
    "        -m-cutoff 0.75 \\\n",
    "        -in-gn ./METABOLIC/input_MAG_fastas \\\n",
    "        -kofam-db full \\\n",
    "        -r ./Scripts/23_metabolic_read_paths.txt \\\n",
    "        -o ./METABOLIC_out \\\n",
    "        > metabolic.log &"
   ]
  },
  {
   "cell_type": "markdown",
   "metadata": {},
   "source": [
    "## Identify and curate AMGs in vMAGs using a custom snakemake workflow"
   ]
  },
  {
   "cell_type": "markdown",
   "metadata": {},
   "source": [
    "**NOTE:** This depends on a database containing KEGG KOfam, Pfam-A, dbCAN, and PHROG HMM profiles (combined into one single `.hmm` file and pressed) as well as the set of custom metabolic HMMs that the tool METABOLIC depends on (see the Methods section of the manuscript for more information)."
   ]
  },
  {
   "cell_type": "markdown",
   "metadata": {},
   "source": [
    "    snakemake \\\n",
    "        --snakefile amg_identification/amg_identification.smk \\\n",
    "        --nolock \\\n",
    "        --configfile amg_identification/amg_identification_config.yaml \\\n",
    "        --directory amg_identification/amg_identification_output \\\n",
    "        --cores 90 \\\n",
    "        --rerun-triggers input \\\n",
    "        --keep-incomplete"
   ]
  },
  {
   "cell_type": "markdown",
   "metadata": {},
   "source": []
  }
 ],
 "metadata": {
  "kernelspec": {
   "display_name": "Python 3",
   "language": "python",
   "name": "python3"
  },
  "language_info": {
   "codemirror_mode": {
    "name": "ipython",
    "version": 3
   },
   "file_extension": ".py",
   "mimetype": "text/x-python",
   "name": "python",
   "nbconvert_exporter": "python",
   "pygments_lexer": "ipython3",
   "version": "3.9.6"
  }
 },
 "nbformat": 4,
 "nbformat_minor": 2
}
